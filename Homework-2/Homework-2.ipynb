{
 "cells": [
  {
   "cell_type": "markdown",
   "metadata": {},
   "source": [
    "# Homework -2 \n",
    "# MULTIPLE REGRESSION"
   ]
  },
  {
   "cell_type": "code",
   "execution_count": 99,
   "metadata": {
    "collapsed": false
   },
   "outputs": [],
   "source": [
    "import numpy as np\n",
    "import pandas as pd\n",
    "from scipy import stats\n",
    "\n",
    "import matplotlib as ml\n",
    "import matplotlib.pyplot as plt\n",
    "import seaborn as sns\n",
    "%matplotlib inline"
   ]
  },
  {
   "cell_type": "code",
   "execution_count": 84,
   "metadata": {
    "collapsed": false
   },
   "outputs": [],
   "source": [
    "\n",
    "data_df = pd.read_csv('data.csv')"
   ]
  },
  {
   "cell_type": "code",
   "execution_count": 85,
   "metadata": {
    "collapsed": false
   },
   "outputs": [
    {
     "data": {
      "text/html": [
       "<div>\n",
       "<table border=\"1\" class=\"dataframe\">\n",
       "  <thead>\n",
       "    <tr style=\"text-align: right;\">\n",
       "      <th></th>\n",
       "      <th>Hour</th>\n",
       "      <th>CO</th>\n",
       "      <th>Traffic</th>\n",
       "      <th>Wind</th>\n",
       "    </tr>\n",
       "  </thead>\n",
       "  <tbody>\n",
       "    <tr>\n",
       "      <th>0</th>\n",
       "      <td>1</td>\n",
       "      <td>2.4</td>\n",
       "      <td>50</td>\n",
       "      <td>-0.2</td>\n",
       "    </tr>\n",
       "    <tr>\n",
       "      <th>1</th>\n",
       "      <td>2</td>\n",
       "      <td>1.7</td>\n",
       "      <td>26</td>\n",
       "      <td>0.0</td>\n",
       "    </tr>\n",
       "    <tr>\n",
       "      <th>2</th>\n",
       "      <td>3</td>\n",
       "      <td>1.4</td>\n",
       "      <td>16</td>\n",
       "      <td>0.0</td>\n",
       "    </tr>\n",
       "    <tr>\n",
       "      <th>3</th>\n",
       "      <td>4</td>\n",
       "      <td>1.2</td>\n",
       "      <td>10</td>\n",
       "      <td>0.0</td>\n",
       "    </tr>\n",
       "    <tr>\n",
       "      <th>4</th>\n",
       "      <td>5</td>\n",
       "      <td>1.2</td>\n",
       "      <td>12</td>\n",
       "      <td>0.1</td>\n",
       "    </tr>\n",
       "  </tbody>\n",
       "</table>\n",
       "</div>"
      ],
      "text/plain": [
       "   Hour   CO  Traffic  Wind\n",
       "0     1  2.4       50  -0.2\n",
       "1     2  1.7       26   0.0\n",
       "2     3  1.4       16   0.0\n",
       "3     4  1.2       10   0.0\n",
       "4     5  1.2       12   0.1"
      ]
     },
     "execution_count": 85,
     "metadata": {},
     "output_type": "execute_result"
    }
   ],
   "source": [
    "data_df.head()"
   ]
  },
  {
   "cell_type": "markdown",
   "metadata": {},
   "source": [
    "# 1. Find the correlation and plot the scatter plot of (Y and H), (Y and T), (Y and W)"
   ]
  },
  {
   "cell_type": "code",
   "execution_count": 86,
   "metadata": {
    "collapsed": true
   },
   "outputs": [],
   "source": [
    "Y = data_df.CO\n",
    "H = data_df.Hour\n",
    "T = data_df.Traffic\n",
    "W = data_df.Wind"
   ]
  },
  {
   "cell_type": "code",
   "execution_count": 212,
   "metadata": {
    "collapsed": false
   },
   "outputs": [
    {
     "name": "stdout",
     "output_type": "stream",
     "text": [
      "\n",
      " The Correlation between H and Y is 42.83%\n",
      "[[ 1.          0.42835141]\n",
      " [ 0.42835141  1.        ]]\n",
      "\n",
      " The Correlation between T and Y is 96.26%\n",
      "[[ 1.          0.96266546]\n",
      " [ 0.96266546  1.        ]]\n",
      "\n",
      " The Correlation between W and Y is 70.97%\n",
      "[[ 1.          0.70974865]\n",
      " [ 0.70974865  1.        ]]\n"
     ]
    }
   ],
   "source": [
    "print \"\\n The Correlation between H and Y is 42.83%\"\n",
    "print np.corrcoef(H,Y)\n",
    "\n",
    "print \"\\n The Correlation between T and Y is 96.26%\"\n",
    "print np.corrcoef(T,Y)\n",
    "\n",
    "print \"\\n The Correlation between W and Y is 70.97%\"\n",
    "print np.corrcoef(W,Y)"
   ]
  },
  {
   "cell_type": "code",
   "execution_count": 145,
   "metadata": {
    "collapsed": false
   },
   "outputs": [
    {
     "data": {
      "text/plain": [
       "<matplotlib.axes._subplots.AxesSubplot at 0x124081110>"
      ]
     },
     "execution_count": 145,
     "metadata": {},
     "output_type": "execute_result"
    },
    {
     "data": {
      "image/png": "[encoded data removed]",
      "text/plain": [
       "<matplotlib.figure.Figure at 0x123c331d0>"
      ]
     },
     "metadata": {},
     "output_type": "display_data"
    }
   ],
   "source": [
    "fig, axs = plt.subplots(1,3)\n",
    "data_df.plot(kind = \"scatter\", x = 'Hour', y = 'CO', ax = axs[0], figsize=(18,6))\n",
    "data_df.plot(kind = 'scatter', x = 'Traffic', y = 'CO', ax = axs[1])\n",
    "data_df.plot(kind = 'scatter', x = 'Wind', y = 'CO', ax = axs[2])"
   ]
  },
  {
   "cell_type": "markdown",
   "metadata": {},
   "source": [
    "# 2."
   ]
  },
  {
   "cell_type": "code",
   "execution_count": 168,
   "metadata": {
    "collapsed": false
   },
   "outputs": [
    {
     "name": "stdout",
     "output_type": "stream",
     "text": [
      "R^2 for H and Y is:  0.183484932457\n",
      "R^2 for T and Y is:  0.92672478996\n",
      "R^2 for W and Y is:  0.503743142976\n"
     ]
    }
   ],
   "source": [
    "slope1, intercept1, r_value1, p_value1, std_err1 = stats.linregress(H,Y)\n",
    "slope2, intercept2, r_value2, p_value2, std_err2 = stats.linregress(T,Y)\n",
    "slope3, intercept3, r_value3, p_value3, std_err3 = stats.linregress(W,Y)\n",
    "\n",
    "print \"R^2 for H and Y is: \", r_value1**2\n",
    "print \"R^2 for T and Y is: \", r_value2**2\n",
    "print \"R^2 for W and Y is: \", r_value3**2"
   ]
  },
  {
   "cell_type": "code",
   "execution_count": 144,
   "metadata": {
    "collapsed": false
   },
   "outputs": [
    {
     "data": {
      "text/plain": [
       "<seaborn.axisgrid.PairGrid at 0x123553390>"
      ]
     },
     "execution_count": 144,
     "metadata": {},
     "output_type": "execute_result"
    },
    {
     "data": {
      "image/png": "[encoded data removed]",
      "text/plain": [
       "<matplotlib.figure.Figure at 0x123553110>"
      ]
     },
     "metadata": {},
     "output_type": "display_data"
    }
   ],
   "source": [
    "g = sns.PairGrid(data_df, y_vars=[\"CO\"], x_vars=[\"Hour\", \"Traffic\", \"Wind\"], size=6)\n",
    "g.map(sns.regplot)"
   ]
  },
  {
   "cell_type": "markdown",
   "metadata": {},
   "source": [
    "# 3."
   ]
  },
  {
   "cell_type": "code",
   "execution_count": 125,
   "metadata": {
    "collapsed": false
   },
   "outputs": [
    {
     "name": "stdout",
     "output_type": "stream",
     "text": [
      "[[ 1.          0.42852285]\n",
      " [ 0.42852285  1.        ]]\n",
      "Correlation Between T and H is 42.85%\n",
      "[[ 1.          0.61344359]\n",
      " [ 0.61344359  1.        ]]\n",
      "Correlation Between W and T is 61.34%\n",
      "[[ 1.          0.42263809]\n",
      " [ 0.42263809  1.        ]]\n",
      "Correlation Between H and W is 42.26%\n"
     ]
    }
   ],
   "source": [
    "print np.corrcoef(T,H)\n",
    "print 'Correlation Between T and H is 42.85%'\n",
    "print np.corrcoef(W,T)\n",
    "print 'Correlation Between W and T is 61.34%'\n",
    "print np.corrcoef(H,W)\n",
    "print 'Correlation Between H and W is 42.26%'"
   ]
  },
  {
   "cell_type": "markdown",
   "metadata": {},
   "source": [
    "# 4. "
   ]
  },
  {
   "cell_type": "code",
   "execution_count": 201,
   "metadata": {
    "collapsed": false
   },
   "outputs": [],
   "source": [
    "# Y = Y , X = T,H\n",
    "Y = data_df['CO']\n",
    "X1 = data_df[['Traffic', 'Hour']]\n",
    "X2 = data_df[['Wind', 'Traffic']]\n",
    "X3 = data_df[['Hour', 'Wind']]\n",
    "X = data_df[['Hour', 'Traffic', 'Wind']]"
   ]
  },
  {
   "cell_type": "markdown",
   "metadata": {},
   "source": [
    "# Traffic and Hour"
   ]
  },
  {
   "cell_type": "code",
   "execution_count": 178,
   "metadata": {
    "collapsed": false
   },
   "outputs": [],
   "source": [
    "import statsmodels.formula.api as smf\n",
    "lm1 = smf.ols(formula='CO ~ Hour+Traffic', data=data_df).fit()"
   ]
  },
  {
   "cell_type": "code",
   "execution_count": 185,
   "metadata": {
    "collapsed": false
   },
   "outputs": [
    {
     "name": "stdout",
     "output_type": "stream",
     "text": [
      "Coofficients of the model: \n",
      "Intercept    1.175000\n",
      "Hour         0.005815\n",
      "Traffic      0.020647\n",
      "dtype: float64\n"
     ]
    }
   ],
   "source": [
    "print \"Coefficients of the model: \"\n",
    "print lm1.params"
   ]
  },
  {
   "cell_type": "code",
   "execution_count": 186,
   "metadata": {
    "collapsed": false
   },
   "outputs": [
    {
     "name": "stdout",
     "output_type": "stream",
     "text": [
      "Confidence Interval: \n",
      "                  0         1\n",
      "Intercept  0.593308  1.756692\n",
      "Hour      -0.034879  0.046509\n",
      "Traffic    0.017712  0.023583\n"
     ]
    }
   ],
   "source": [
    "print \"Confidence Interval: \"\n",
    "print lm1.conf_int()"
   ]
  },
  {
   "cell_type": "code",
   "execution_count": 187,
   "metadata": {
    "collapsed": false
   },
   "outputs": [
    {
     "name": "stdout",
     "output_type": "stream",
     "text": [
      "R-squared: \n",
      "0.927031639809\n"
     ]
    }
   ],
   "source": [
    "print \"R-squared: \"\n",
    "print lm1.rsquared"
   ]
  },
  {
   "cell_type": "code",
   "execution_count": 188,
   "metadata": {
    "collapsed": false
   },
   "outputs": [
    {
     "name": "stdout",
     "output_type": "stream",
     "text": [
      "Predictions of CO using model i.e due to regression: \n",
      "[ 2.21318299  1.72346137  1.52280278  1.40473362  1.45184334  2.05643174\n",
      "  4.45734036  6.92019105  7.0498902   6.22981084  5.36843677  5.08518874\n",
      "  4.94647222  4.93163986  5.45363882  6.71894271  7.24094167  7.63905648\n",
      "  6.79832977  5.21429814  3.87803481  3.78061301  3.70383857  3.11088016]\n"
     ]
    }
   ],
   "source": [
    "print \"Predictions of CO using model i.e due to regression: \"\n",
    "print lm1.predict(X1)"
   ]
  },
  {
   "cell_type": "markdown",
   "metadata": {},
   "source": [
    "# wind and aTraffic"
   ]
  },
  {
   "cell_type": "code",
   "execution_count": 189,
   "metadata": {
    "collapsed": false
   },
   "outputs": [],
   "source": [
    "lm2 = smf.ols(formula='CO ~ Wind+Traffic', data=data_df).fit()"
   ]
  },
  {
   "cell_type": "code",
   "execution_count": 190,
   "metadata": {
    "collapsed": false
   },
   "outputs": [
    {
     "name": "stdout",
     "output_type": "stream",
     "text": [
      "Coofficients of the model: \n",
      "Intercept    1.274461\n",
      "Wind         0.174747\n",
      "Traffic      0.018290\n",
      "dtype: float64\n"
     ]
    }
   ],
   "source": [
    "print \"Coofficients of the model: \"\n",
    "print lm2.params"
   ]
  },
  {
   "cell_type": "code",
   "execution_count": 191,
   "metadata": {
    "collapsed": false
   },
   "outputs": [
    {
     "name": "stdout",
     "output_type": "stream",
     "text": [
      "Confidence Interval: \n",
      "                  0         1\n",
      "Intercept  0.862413  1.686510\n",
      "Wind       0.056697  0.292797\n",
      "Traffic    0.015497  0.021084\n"
     ]
    }
   ],
   "source": [
    "print \"Confidence Interval: \"\n",
    "print lm2.conf_int()"
   ]
  },
  {
   "cell_type": "code",
   "execution_count": 192,
   "metadata": {
    "collapsed": false
   },
   "outputs": [
    {
     "name": "stdout",
     "output_type": "stream",
     "text": [
      "R-squared: \n",
      "0.949509414529\n"
     ]
    }
   ],
   "source": [
    "print \"R-squared: \"\n",
    "print lm2.rsquared"
   ]
  },
  {
   "cell_type": "code",
   "execution_count": 194,
   "metadata": {
    "collapsed": false
   },
   "outputs": [
    {
     "name": "stdout",
     "output_type": "stream",
     "text": [
      "Predictions of CO using model i.e due to regression: \n",
      "[ 2.15403275  1.75001201  1.56710781  1.45736529  1.5114208   2.00689364\n",
      "  4.12858237  6.28766769  6.4673089   5.87548946  5.33446254  5.34051672\n",
      "  5.35228115  5.4737881   6.01842196  7.13413758  7.53897407  7.76416936\n",
      "  6.82204075  5.18650768  3.805409    3.57415953  3.46604851  2.88320231]\n"
     ]
    }
   ],
   "source": [
    "print \"Predictions of CO using model i.e due to regression: \"\n",
    "print lm2.predict(X2)"
   ]
  },
  {
   "cell_type": "markdown",
   "metadata": {},
   "source": [
    "# Hour and Wind"
   ]
  },
  {
   "cell_type": "code",
   "execution_count": 195,
   "metadata": {
    "collapsed": true
   },
   "outputs": [],
   "source": [
    "lm3 = smf.ols(formula='CO ~ Hour+Wind', data=data_df).fit()"
   ]
  },
  {
   "cell_type": "code",
   "execution_count": 196,
   "metadata": {
    "collapsed": false
   },
   "outputs": [
    {
     "name": "stdout",
     "output_type": "stream",
     "text": [
      "Coofficients of the model: \n",
      "Intercept    2.776934\n",
      "Hour         0.046881\n",
      "Wind         0.588501\n",
      "dtype: float64\n"
     ]
    }
   ],
   "source": [
    "print \"Coofficients of the model: \"\n",
    "print lm3.params"
   ]
  },
  {
   "cell_type": "code",
   "execution_count": 198,
   "metadata": {
    "collapsed": false,
    "scrolled": true
   },
   "outputs": [
    {
     "name": "stdout",
     "output_type": "stream",
     "text": [
      "Confidence Interval: \n",
      "                  0         1\n",
      "Intercept  1.432270  4.121597\n",
      "Hour      -0.056757  0.150520\n",
      "Wind       0.272591  0.904411\n"
     ]
    }
   ],
   "source": [
    "print \"Confidence Interval: \"\n",
    "print lm3.conf_int()"
   ]
  },
  {
   "cell_type": "code",
   "execution_count": 199,
   "metadata": {
    "collapsed": false
   },
   "outputs": [
    {
     "name": "stdout",
     "output_type": "stream",
     "text": [
      "R-squared: \n",
      "0.523810181436\n"
     ]
    }
   ],
   "source": [
    "print \"R-squared: \"\n",
    "print lm3.rsquared"
   ]
  },
  {
   "cell_type": "code",
   "execution_count": 200,
   "metadata": {
    "collapsed": false
   },
   "outputs": [
    {
     "name": "stdout",
     "output_type": "stream",
     "text": [
      "Predictions of CO using model i.e due to regression: \n",
      "[ 2.70611473  2.87069625  2.91757757  2.96445888  3.0701903   2.99937142\n",
      "  3.04625274  3.03428395  3.31656567  3.83424779  4.64618041  5.57581323\n",
      "  6.09349535  6.61117747  6.95230929  6.99919061  6.86952163  6.50445224\n",
      "  5.90398246  5.18581247  4.58534268  4.1614232   4.09060432  3.96093533]\n"
     ]
    }
   ],
   "source": [
    "print \"Predictions of CO using model i.e due to regression: \"\n",
    "print lm3.predict(X3)"
   ]
  },
  {
   "cell_type": "markdown",
   "metadata": {},
   "source": [
    "# 5\n"
   ]
  },
  {
   "cell_type": "code",
   "execution_count": 202,
   "metadata": {
    "collapsed": true
   },
   "outputs": [],
   "source": [
    "lm = smf.ols(formula='CO ~ Hour+Traffic+Wind', data=data_df).fit()"
   ]
  },
  {
   "cell_type": "code",
   "execution_count": 203,
   "metadata": {
    "collapsed": false
   },
   "outputs": [
    {
     "name": "stdout",
     "output_type": "stream",
     "text": [
      "Coofficients of the model: \n",
      "Intercept    1.318967\n",
      "Hour        -0.005689\n",
      "Traffic      0.018402\n",
      "Wind         0.179189\n",
      "dtype: float64\n"
     ]
    }
   ],
   "source": [
    "print \"Coofficients of the model: \"\n",
    "print lm.params"
   ]
  },
  {
   "cell_type": "code",
   "execution_count": 204,
   "metadata": {
    "collapsed": false
   },
   "outputs": [
    {
     "name": "stdout",
     "output_type": "stream",
     "text": [
      "Confidence Interval: \n",
      "                  0         1\n",
      "Intercept  0.813076  1.824858\n",
      "Hour      -0.041289  0.029911\n",
      "Traffic    0.015455  0.021349\n",
      "Wind       0.055038  0.303340\n"
     ]
    }
   ],
   "source": [
    "print \"Confidence Interval: \"\n",
    "print lm.conf_int()"
   ]
  },
  {
   "cell_type": "code",
   "execution_count": 205,
   "metadata": {
    "collapsed": false
   },
   "outputs": [
    {
     "name": "stdout",
     "output_type": "stream",
     "text": [
      "R-squared: \n",
      "0.949788420165\n"
     ]
    }
   ],
   "source": [
    "print \"R-squared: \"\n",
    "print lm.rsquared"
   ]
  },
  {
   "cell_type": "code",
   "execution_count": 206,
   "metadata": {
    "collapsed": false
   },
   "outputs": [
    {
     "name": "stdout",
     "output_type": "stream",
     "text": [
      "Predictions of CO using model i.e due to regression: \n",
      "[ 2.19752889  1.78603442  1.59632719  1.48022712  1.52926028  2.02138505\n",
      "  4.15030336  6.31650814  6.49290518  5.89449551  5.34887679  5.35434601\n",
      "  5.36319541  5.48245555  6.02640551  7.14322537  7.54382407  7.76233641\n",
      "  6.80506571  5.14949276  3.7505791   3.50952957  3.39439527  2.80129731]\n"
     ]
    }
   ],
   "source": [
    "print \"Predictions of CO using model i.e due to regression: \"\n",
    "print lm.predict(X)"
   ]
  },
  {
   "cell_type": "code",
   "execution_count": null,
   "metadata": {
    "collapsed": true
   },
   "outputs": [],
   "source": []
  }
 ],
 "metadata": {
  "anaconda-cloud": {},
  "kernelspec": {
   "display_name": "Python [Root]",
   "language": "python",
   "name": "Python [Root]"
  },
  "language_info": {
   "codemirror_mode": {
    "name": "ipython",
    "version": 2
   },
   "file_extension": ".py",
   "mimetype": "text/x-python",
   "name": "python",
   "nbconvert_exporter": "python",
   "pygments_lexer": "ipython2",
   "version": "2.7.11"
  }
 },
 "nbformat": 4,
 "nbformat_minor": 0
}
