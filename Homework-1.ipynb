{
 "cells": [
  {
   "cell_type": "markdown",
   "metadata": {},
   "source": [
    "# Homework - 1 \n",
    "Dhrumin Desai"
   ]
  },
  {
   "cell_type": "code",
   "execution_count": 58,
   "metadata": {
    "collapsed": false
   },
   "outputs": [],
   "source": [
    "import numpy as np\n",
    "import pandas as pd\n",
    "from pandas import DataFrame, Series\n",
    "import matplotlib.pyplot as plt\n",
    "%matplotlib inline\n",
    "from scipy import stats\n",
    "import seaborn as sns\n"
   ]
  },
  {
   "cell_type": "code",
   "execution_count": 8,
   "metadata": {
    "collapsed": false
   },
   "outputs": [
    {
     "data": {
      "text/html": [
       "<div>\n",
       "<table border=\"1\" class=\"dataframe\">\n",
       "  <thead>\n",
       "    <tr style=\"text-align: right;\">\n",
       "      <th></th>\n",
       "      <th>X</th>\n",
       "      <th>Y</th>\n",
       "    </tr>\n",
       "  </thead>\n",
       "  <tbody>\n",
       "    <tr>\n",
       "      <th>0</th>\n",
       "      <td>8</td>\n",
       "      <td>859</td>\n",
       "    </tr>\n",
       "    <tr>\n",
       "      <th>1</th>\n",
       "      <td>5</td>\n",
       "      <td>682</td>\n",
       "    </tr>\n",
       "    <tr>\n",
       "      <th>2</th>\n",
       "      <td>3</td>\n",
       "      <td>471</td>\n",
       "    </tr>\n",
       "    <tr>\n",
       "      <th>3</th>\n",
       "      <td>9</td>\n",
       "      <td>708</td>\n",
       "    </tr>\n",
       "    <tr>\n",
       "      <th>4</th>\n",
       "      <td>11</td>\n",
       "      <td>1094</td>\n",
       "    </tr>\n",
       "    <tr>\n",
       "      <th>5</th>\n",
       "      <td>2</td>\n",
       "      <td>224</td>\n",
       "    </tr>\n",
       "    <tr>\n",
       "      <th>6</th>\n",
       "      <td>1</td>\n",
       "      <td>320</td>\n",
       "    </tr>\n",
       "    <tr>\n",
       "      <th>7</th>\n",
       "      <td>8</td>\n",
       "      <td>651</td>\n",
       "    </tr>\n",
       "    <tr>\n",
       "      <th>8</th>\n",
       "      <td>12</td>\n",
       "      <td>1049</td>\n",
       "    </tr>\n",
       "  </tbody>\n",
       "</table>\n",
       "</div>"
      ],
      "text/plain": [
       "    X     Y\n",
       "0   8   859\n",
       "1   5   682\n",
       "2   3   471\n",
       "3   9   708\n",
       "4  11  1094\n",
       "5   2   224\n",
       "6   1   320\n",
       "7   8   651\n",
       "8  12  1049"
      ]
     },
     "execution_count": 8,
     "metadata": {},
     "output_type": "execute_result"
    }
   ],
   "source": [
    "bus_df = DataFrame({'X': [8,5,3,9,11,2,1,8,12], 'Y': [859,682,471,708,1094,224,320,651,1049]})\n",
    "bus_df\n"
   ]
  },
  {
   "cell_type": "markdown",
   "metadata": {},
   "source": [
    "# a. Scatter plot"
   ]
  },
  {
   "cell_type": "code",
   "execution_count": 238,
   "metadata": {
    "collapsed": false
   },
   "outputs": [
    {
     "data": {
      "text/plain": [
       "<matplotlib.axes._subplots.AxesSubplot at 0x11afedd90>"
      ]
     },
     "execution_count": 238,
     "metadata": {},
     "output_type": "execute_result"
    },
    {
     "data": {
      "image/png": "[encoded data removed]",
      "text/plain": [
       "<matplotlib.figure.Figure at 0x127ed82d0>"
      ]
     },
     "metadata": {},
     "output_type": "display_data"
    }
   ],
   "source": [
    "# aScatter plot\n",
    "bus_df.plot(kind='scatter', x = 'X', y='Y')"
   ]
  },
  {
   "cell_type": "code",
   "execution_count": 10,
   "metadata": {
    "collapsed": true
   },
   "outputs": [],
   "source": [
    "slope, intercept, r_value, p_value, std_err = stats.linregress(bus_df.X,bus_df.Y)"
   ]
  },
  {
   "cell_type": "code",
   "execution_count": 31,
   "metadata": {
    "collapsed": false
   },
   "outputs": [
    {
     "name": "stdout",
     "output_type": "stream",
     "text": [
      "0     775.548415\n",
      "1     562.794014\n",
      "2     420.957746\n",
      "3     846.466549\n",
      "4     988.302817\n",
      "5     350.039613\n",
      "6     279.121479\n",
      "7     775.548415\n",
      "8    1059.220951\n",
      "Name: X, dtype: float64\n"
     ]
    }
   ],
   "source": [
    "predicted_y = slope*bus_df.X+intercept\n",
    "print predicted_y"
   ]
  },
  {
   "cell_type": "code",
   "execution_count": 12,
   "metadata": {
    "collapsed": false
   },
   "outputs": [
    {
     "name": "stdout",
     "output_type": "stream",
     "text": [
      "slope:  70.9181338028\n",
      "intercept:  208.20334507\n"
     ]
    }
   ],
   "source": [
    "print \"slope: \", slope\n",
    "print \"intercept: \", intercept"
   ]
  },
  {
   "cell_type": "markdown",
   "metadata": {},
   "source": [
    "# b. Regression line"
   ]
  },
  {
   "cell_type": "code",
   "execution_count": 239,
   "metadata": {
    "collapsed": false
   },
   "outputs": [
    {
     "data": {
      "text/plain": [
       "<seaborn.axisgrid.FacetGrid at 0x11af04810>"
      ]
     },
     "execution_count": 239,
     "metadata": {},
     "output_type": "execute_result"
    },
    {
     "data": {
      "image/png": "[encoded data removed]",
      "text/plain": [
       "<matplotlib.figure.Figure at 0x127f14450>"
      ]
     },
     "metadata": {},
     "output_type": "display_data"
    }
   ],
   "source": [
    "\n",
    "sns.lmplot('X','Y',bus_df,ci=95, size=7)"
   ]
  },
  {
   "cell_type": "markdown",
   "metadata": {},
   "source": [
    "# c.total sum of squares"
   ]
  },
  {
   "cell_type": "code",
   "execution_count": 78,
   "metadata": {
    "collapsed": false
   },
   "outputs": [
    {
     "name": "stdout",
     "output_type": "stream",
     "text": [
      "mean of X:  6.55555555556\n",
      "Total Sum of squares of X:  126.222222222\n",
      "mean of Y:  673.111111111\n",
      "Total Sum of squares of Y:  722016.888889\n"
     ]
    }
   ],
   "source": [
    "# total sum of square of Y\n",
    "X_mean = bus_df['X'].mean()\n",
    "print 'mean of X: ',X_mean\n",
    "\n",
    "X_diff = np.array([(x-X_mean)**2 for x in bus_df.X])\n",
    "\n",
    "X_TSS = X_diff.sum()\n",
    "print \"Total Sum of squares of X: \", X_TSS\n",
    "\n",
    "# total sum of square of Y\n",
    "Y_mean = bus_df['Y'].mean()\n",
    "print 'mean of Y: ',Y_mean\n",
    "\n",
    "Y_diff = np.array([(y-Y_mean)**2 for y in bus_df.Y])\n",
    "\n",
    "Y_TSS = Y_diff.sum()\n",
    "print \"Total Sum of squares of Y: \", Y_TSS"
   ]
  },
  {
   "cell_type": "markdown",
   "metadata": {},
   "source": [
    "# d. sum of square about regression\n"
   ]
  },
  {
   "cell_type": "code",
   "execution_count": 49,
   "metadata": {
    "collapsed": false
   },
   "outputs": [
    {
     "name": "stdout",
     "output_type": "stream",
     "text": [
      "Sum of Squares about regression:  87197.1540493\n"
     ]
    }
   ],
   "source": [
    "y_ypred = np.array([(y - Y_pred)**2 for y,Y_pred in zip(bus_df['Y'],predicted_y)])\n",
    "sum_about_reg = y_ypred.sum()\n",
    "\n",
    "print \"Sum of Squares about regression: \", sum_about_reg\n"
   ]
  },
  {
   "cell_type": "markdown",
   "metadata": {},
   "source": [
    "# e. sum of square due regression \n"
   ]
  },
  {
   "cell_type": "code",
   "execution_count": 50,
   "metadata": {
    "collapsed": false
   },
   "outputs": [
    {
     "name": "stdout",
     "output_type": "stream",
     "text": [
      "Sum of Squares due to regression:  634819.73484\n"
     ]
    }
   ],
   "source": [
    "y_ymean = np.array([(y - Y_mean)**2 for y in predicted_y])\n",
    "sum_due_reg = y_ymean.sum()\n",
    "\n",
    "print \"Sum of Squares due to regression: \", sum_due_reg"
   ]
  },
  {
   "cell_type": "markdown",
   "metadata": {},
   "source": [
    "# f. Total Sum of Squares = Sum of Squares due to regression + Sum of Squares about regression\n"
   ]
  },
  {
   "cell_type": "code",
   "execution_count": 53,
   "metadata": {
    "collapsed": false
   },
   "outputs": [
    {
     "name": "stdout",
     "output_type": "stream",
     "text": [
      "Total Sum of squares of Y:  722016.888889\n",
      "Sum of Squares due to regression + Sum of Squares about regression 722016.888889\n"
     ]
    }
   ],
   "source": [
    "print \"Total Sum of squares of Y: \", Y_TSS\n",
    "print \"Sum of Squares due to regression + Sum of Squares about regression\", sum_about_reg + sum_due_reg"
   ]
  },
  {
   "cell_type": "markdown",
   "metadata": {},
   "source": [
    "# g)\tFind a 95% confidence interval for the slope\n"
   ]
  },
  {
   "cell_type": "markdown",
   "metadata": {},
   "source": [
    "SE = sb1 = sqrt [ Σ(yi - ŷi)2 / (n - 2) ] / sqrt [ Σ(xi - x)2 ]\n"
   ]
  },
  {
   "cell_type": "code",
   "execution_count": 217,
   "metadata": {
    "collapsed": false
   },
   "outputs": [],
   "source": [
    "SE = np.sqrt(sum_about_reg/7)\n",
    "se_y = np.sqrt ((sum_about_reg/7) /X_TSS)"
   ]
  },
  {
   "cell_type": "code",
   "execution_count": 218,
   "metadata": {
    "collapsed": false
   },
   "outputs": [],
   "source": [
    "t_val1 =  stats.t.ppf(1-0.025, 7)"
   ]
  },
  {
   "cell_type": "code",
   "execution_count": 219,
   "metadata": {
    "collapsed": false
   },
   "outputs": [
    {
     "name": "stdout",
     "output_type": "stream",
     "text": [
      "95% confidence interval of the slope is :  (47.427411891347489, 94.408855714286304)\n"
     ]
    }
   ],
   "source": [
    "print \"95% confidence interval of the slope is : \",(slope - t_val1*se_y, slope + t_val1*se_y)"
   ]
  },
  {
   "cell_type": "markdown",
   "metadata": {},
   "source": [
    "# h. Find a 90% confidence interval for the intercept\n"
   ]
  },
  {
   "cell_type": "markdown",
   "metadata": {},
   "source": [
    "Var(b0) = σ2(1/n+ Average(X)2 /SXX)"
   ]
  },
  {
   "cell_type": "code",
   "execution_count": 220,
   "metadata": {
    "collapsed": false
   },
   "outputs": [],
   "source": [
    "\n",
    "X2 = (bus_df['X'].mean())**2\n",
    "t2_val = stats.t.ppf(1-0.05, 7)\n",
    "\n",
    "se_b0 = SE*np.sqrt((1.0/9 + X2/X_TSS))\n"
   ]
  },
  {
   "cell_type": "code",
   "execution_count": 222,
   "metadata": {
    "collapsed": false
   },
   "outputs": [
    {
     "name": "stdout",
     "output_type": "stream",
     "text": [
      "90% confidence interval of the intercept is :  (66.106550628599507, 350.30013951224555)\n"
     ]
    }
   ],
   "source": [
    "print \"90% confidence interval of the intercept is : \",(intercept - t2_val*se_b0, intercept + t2_val*se_b0)"
   ]
  },
  {
   "cell_type": "markdown",
   "metadata": {},
   "source": [
    "# i.compute R^2"
   ]
  },
  {
   "cell_type": "code",
   "execution_count": 224,
   "metadata": {
    "collapsed": false
   },
   "outputs": [
    {
     "name": "stdout",
     "output_type": "stream",
     "text": [
      "Value of R_sqr:  0.879231143494\n"
     ]
    }
   ],
   "source": [
    "R_sqr = r_value ** 2\n",
    "print \"Value of R_sqr: \", R_sqr"
   ]
  },
  {
   "cell_type": "markdown",
   "metadata": {},
   "source": [
    "# j. Compute correlation between Maintenance Cost and Age\n"
   ]
  },
  {
   "cell_type": "code",
   "execution_count": 228,
   "metadata": {
    "collapsed": false
   },
   "outputs": [
    {
     "data": {
      "text/html": [
       "<div>\n",
       "<table border=\"1\" class=\"dataframe\">\n",
       "  <thead>\n",
       "    <tr style=\"text-align: right;\">\n",
       "      <th></th>\n",
       "      <th>X</th>\n",
       "      <th>Y</th>\n",
       "    </tr>\n",
       "  </thead>\n",
       "  <tbody>\n",
       "    <tr>\n",
       "      <th>X</th>\n",
       "      <td>1.000000</td>\n",
       "      <td>0.937673</td>\n",
       "    </tr>\n",
       "    <tr>\n",
       "      <th>Y</th>\n",
       "      <td>0.937673</td>\n",
       "      <td>1.000000</td>\n",
       "    </tr>\n",
       "  </tbody>\n",
       "</table>\n",
       "</div>"
      ],
      "text/plain": [
       "          X         Y\n",
       "X  1.000000  0.937673\n",
       "Y  0.937673  1.000000"
      ]
     },
     "execution_count": 228,
     "metadata": {},
     "output_type": "execute_result"
    }
   ],
   "source": [
    "bus_df.corr()"
   ]
  },
  {
   "cell_type": "code",
   "execution_count": 229,
   "metadata": {
    "collapsed": false
   },
   "outputs": [
    {
     "name": "stdout",
     "output_type": "stream",
     "text": [
      "correlation is 0.937673\n"
     ]
    }
   ],
   "source": [
    "print \"correlation is 0.937673\""
   ]
  },
  {
   "cell_type": "markdown",
   "metadata": {},
   "source": [
    "# k. compare R^2 and Correlation"
   ]
  },
  {
   "cell_type": "markdown",
   "metadata": {},
   "source": [
    "If we take square root of the R^2, it is same as correlation. So essetianly R-value is same as Correlation"
   ]
  },
  {
   "cell_type": "code",
   "execution_count": 233,
   "metadata": {
    "collapsed": false
   },
   "outputs": [
    {
     "data": {
      "text/plain": [
       "0.93767326051976718"
      ]
     },
     "execution_count": 233,
     "metadata": {},
     "output_type": "execute_result"
    }
   ],
   "source": [
    "np.sqrt(R_sqr)"
   ]
  },
  {
   "cell_type": "markdown",
   "metadata": {},
   "source": [
    "# l.Forecast the annual maintenance cost for a bus that is 4.5years old and one that is 7 years old.\n"
   ]
  },
  {
   "cell_type": "code",
   "execution_count": 241,
   "metadata": {
    "collapsed": false
   },
   "outputs": [
    {
     "name": "stdout",
     "output_type": "stream",
     "text": [
      "The annual maintenance cost of 4.5 years old bus should be around:  527.334947183\n"
     ]
    }
   ],
   "source": [
    "y4 = intercept +   slope * 4.5\n",
    "print \"The annual maintenance cost of 4.5 years old bus should be around: \", y4"
   ]
  },
  {
   "cell_type": "code",
   "execution_count": null,
   "metadata": {
    "collapsed": true
   },
   "outputs": [],
   "source": [
    "y7 = intercept +   slope * 4.5\n",
    "print \"The annual maintenance cost of 4.5 years old bus should be around: \", y4"
   ]
  }
 ],
 "metadata": {
  "anaconda-cloud": {},
  "kernelspec": {
   "display_name": "Python [Root]",
   "language": "python",
   "name": "Python [Root]"
  },
  "language_info": {
   "codemirror_mode": {
    "name": "ipython",
    "version": 2
   },
   "file_extension": ".py",
   "mimetype": "text/x-python",
   "name": "python",
   "nbconvert_exporter": "python",
   "pygments_lexer": "ipython2",
   "version": "2.7.11"
  }
 },
 "nbformat": 4,
 "nbformat_minor": 0
}
