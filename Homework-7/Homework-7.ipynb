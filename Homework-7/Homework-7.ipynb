{
 "cells": [
  {
   "cell_type": "code",
   "execution_count": 2,
   "metadata": {
    "collapsed": true
   },
   "outputs": [],
   "source": [
    "import numpy as np\n",
    "import pandas as pd\n",
    "from pandas import DataFrame, Series\n",
    "import matplotlib.pyplot as plt\n",
    "%matplotlib inline\n",
    "import scipy\n",
    "from scipy import stats\n",
    "import seaborn as sns\n",
    "from __future__ import division"
   ]
  },
  {
   "cell_type": "code",
   "execution_count": 3,
   "metadata": {
    "collapsed": false
   },
   "outputs": [
    {
     "data": {
      "text/html": [
       "<div>\n",
       "<table border=\"1\" class=\"dataframe\">\n",
       "  <thead>\n",
       "    <tr style=\"text-align: right;\">\n",
       "      <th></th>\n",
       "      <th>X1</th>\n",
       "      <th>X2</th>\n",
       "      <th>X3</th>\n",
       "    </tr>\n",
       "  </thead>\n",
       "  <tbody>\n",
       "    <tr>\n",
       "      <th>0</th>\n",
       "      <td>80</td>\n",
       "      <td>27</td>\n",
       "      <td>89</td>\n",
       "    </tr>\n",
       "    <tr>\n",
       "      <th>1</th>\n",
       "      <td>80</td>\n",
       "      <td>27</td>\n",
       "      <td>88</td>\n",
       "    </tr>\n",
       "    <tr>\n",
       "      <th>2</th>\n",
       "      <td>75</td>\n",
       "      <td>25</td>\n",
       "      <td>90</td>\n",
       "    </tr>\n",
       "    <tr>\n",
       "      <th>3</th>\n",
       "      <td>62</td>\n",
       "      <td>24</td>\n",
       "      <td>87</td>\n",
       "    </tr>\n",
       "    <tr>\n",
       "      <th>4</th>\n",
       "      <td>62</td>\n",
       "      <td>22</td>\n",
       "      <td>87</td>\n",
       "    </tr>\n",
       "  </tbody>\n",
       "</table>\n",
       "</div>"
      ],
      "text/plain": [
       "   X1  X2  X3\n",
       "0  80  27  89\n",
       "1  80  27  88\n",
       "2  75  25  90\n",
       "3  62  24  87\n",
       "4  62  22  87"
      ]
     },
     "execution_count": 3,
     "metadata": {},
     "output_type": "execute_result"
    }
   ],
   "source": [
    "data = pd.read_csv('data.csv')\n",
    "data.head()"
   ]
  },
  {
   "cell_type": "markdown",
   "metadata": {},
   "source": [
    "# a)"
   ]
  },
  {
   "cell_type": "code",
   "execution_count": 4,
   "metadata": {
    "collapsed": false
   },
   "outputs": [
    {
     "data": {
      "text/html": [
       "<div>\n",
       "<table border=\"1\" class=\"dataframe\">\n",
       "  <thead>\n",
       "    <tr style=\"text-align: right;\">\n",
       "      <th></th>\n",
       "      <th>0</th>\n",
       "      <th>1</th>\n",
       "      <th>2</th>\n",
       "    </tr>\n",
       "  </thead>\n",
       "  <tbody>\n",
       "    <tr>\n",
       "      <th>0</th>\n",
       "      <td>2.187408</td>\n",
       "      <td>1.914273</td>\n",
       "      <td>0.519040</td>\n",
       "    </tr>\n",
       "    <tr>\n",
       "      <th>1</th>\n",
       "      <td>2.187408</td>\n",
       "      <td>1.914273</td>\n",
       "      <td>0.327815</td>\n",
       "    </tr>\n",
       "    <tr>\n",
       "      <th>2</th>\n",
       "      <td>1.628581</td>\n",
       "      <td>1.265890</td>\n",
       "      <td>0.710266</td>\n",
       "    </tr>\n",
       "    <tr>\n",
       "      <th>3</th>\n",
       "      <td>0.175631</td>\n",
       "      <td>0.941699</td>\n",
       "      <td>0.136590</td>\n",
       "    </tr>\n",
       "    <tr>\n",
       "      <th>4</th>\n",
       "      <td>0.175631</td>\n",
       "      <td>0.293316</td>\n",
       "      <td>0.136590</td>\n",
       "    </tr>\n",
       "    <tr>\n",
       "      <th>5</th>\n",
       "      <td>0.175631</td>\n",
       "      <td>0.617508</td>\n",
       "      <td>0.136590</td>\n",
       "    </tr>\n",
       "    <tr>\n",
       "      <th>6</th>\n",
       "      <td>0.175631</td>\n",
       "      <td>0.941699</td>\n",
       "      <td>1.283942</td>\n",
       "    </tr>\n",
       "    <tr>\n",
       "      <th>7</th>\n",
       "      <td>0.175631</td>\n",
       "      <td>0.941699</td>\n",
       "      <td>1.283942</td>\n",
       "    </tr>\n",
       "    <tr>\n",
       "      <th>8</th>\n",
       "      <td>-0.271430</td>\n",
       "      <td>0.617508</td>\n",
       "      <td>0.136590</td>\n",
       "    </tr>\n",
       "    <tr>\n",
       "      <th>9</th>\n",
       "      <td>-0.271430</td>\n",
       "      <td>-1.003450</td>\n",
       "      <td>-1.201988</td>\n",
       "    </tr>\n",
       "    <tr>\n",
       "      <th>10</th>\n",
       "      <td>-0.271430</td>\n",
       "      <td>-1.003450</td>\n",
       "      <td>0.519040</td>\n",
       "    </tr>\n",
       "    <tr>\n",
       "      <th>11</th>\n",
       "      <td>-0.271430</td>\n",
       "      <td>-1.327641</td>\n",
       "      <td>0.327815</td>\n",
       "    </tr>\n",
       "    <tr>\n",
       "      <th>12</th>\n",
       "      <td>-0.271430</td>\n",
       "      <td>-1.003450</td>\n",
       "      <td>-0.819538</td>\n",
       "    </tr>\n",
       "    <tr>\n",
       "      <th>13</th>\n",
       "      <td>-0.271430</td>\n",
       "      <td>-0.679258</td>\n",
       "      <td>1.283942</td>\n",
       "    </tr>\n",
       "    <tr>\n",
       "      <th>14</th>\n",
       "      <td>-1.165553</td>\n",
       "      <td>-1.003450</td>\n",
       "      <td>0.519040</td>\n",
       "    </tr>\n",
       "    <tr>\n",
       "      <th>15</th>\n",
       "      <td>-1.165553</td>\n",
       "      <td>-1.003450</td>\n",
       "      <td>-0.054636</td>\n",
       "    </tr>\n",
       "    <tr>\n",
       "      <th>16</th>\n",
       "      <td>-1.165553</td>\n",
       "      <td>-0.679258</td>\n",
       "      <td>-2.731792</td>\n",
       "    </tr>\n",
       "    <tr>\n",
       "      <th>17</th>\n",
       "      <td>-1.165553</td>\n",
       "      <td>-0.679258</td>\n",
       "      <td>-1.393214</td>\n",
       "    </tr>\n",
       "    <tr>\n",
       "      <th>18</th>\n",
       "      <td>-1.165553</td>\n",
       "      <td>-0.355067</td>\n",
       "      <td>-1.201988</td>\n",
       "    </tr>\n",
       "    <tr>\n",
       "      <th>19</th>\n",
       "      <td>-0.494961</td>\n",
       "      <td>-0.355067</td>\n",
       "      <td>-0.819538</td>\n",
       "    </tr>\n",
       "    <tr>\n",
       "      <th>20</th>\n",
       "      <td>1.069754</td>\n",
       "      <td>-0.355067</td>\n",
       "      <td>0.901491</td>\n",
       "    </tr>\n",
       "  </tbody>\n",
       "</table>\n",
       "</div>"
      ],
      "text/plain": [
       "           0         1         2\n",
       "0   2.187408  1.914273  0.519040\n",
       "1   2.187408  1.914273  0.327815\n",
       "2   1.628581  1.265890  0.710266\n",
       "3   0.175631  0.941699  0.136590\n",
       "4   0.175631  0.293316  0.136590\n",
       "5   0.175631  0.617508  0.136590\n",
       "6   0.175631  0.941699  1.283942\n",
       "7   0.175631  0.941699  1.283942\n",
       "8  -0.271430  0.617508  0.136590\n",
       "9  -0.271430 -1.003450 -1.201988\n",
       "10 -0.271430 -1.003450  0.519040\n",
       "11 -0.271430 -1.327641  0.327815\n",
       "12 -0.271430 -1.003450 -0.819538\n",
       "13 -0.271430 -0.679258  1.283942\n",
       "14 -1.165553 -1.003450  0.519040\n",
       "15 -1.165553 -1.003450 -0.054636\n",
       "16 -1.165553 -0.679258 -2.731792\n",
       "17 -1.165553 -0.679258 -1.393214\n",
       "18 -1.165553 -0.355067 -1.201988\n",
       "19 -0.494961 -0.355067 -0.819538\n",
       "20  1.069754 -0.355067  0.901491"
      ]
     },
     "execution_count": 4,
     "metadata": {},
     "output_type": "execute_result"
    }
   ],
   "source": [
    "from sklearn.preprocessing import StandardScaler\n",
    "sc = StandardScaler()\n",
    "sc.fit(data)\n",
    "data_norm = sc.transform(data)\n",
    "data_norm = DataFrame(data_norm)\n",
    "data_norm"
   ]
  },
  {
   "cell_type": "markdown",
   "metadata": {},
   "source": [
    "# b)"
   ]
  },
  {
   "cell_type": "code",
   "execution_count": 5,
   "metadata": {
    "collapsed": false
   },
   "outputs": [
    {
     "data": {
      "text/html": [
       "<div>\n",
       "<table border=\"1\" class=\"dataframe\">\n",
       "  <thead>\n",
       "    <tr style=\"text-align: right;\">\n",
       "      <th></th>\n",
       "      <th>0</th>\n",
       "      <th>1</th>\n",
       "      <th>2</th>\n",
       "    </tr>\n",
       "  </thead>\n",
       "  <tbody>\n",
       "    <tr>\n",
       "      <th>0</th>\n",
       "      <td>1.050000</td>\n",
       "      <td>0.820945</td>\n",
       "      <td>0.525150</td>\n",
       "    </tr>\n",
       "    <tr>\n",
       "      <th>1</th>\n",
       "      <td>0.820945</td>\n",
       "      <td>1.050000</td>\n",
       "      <td>0.410487</td>\n",
       "    </tr>\n",
       "    <tr>\n",
       "      <th>2</th>\n",
       "      <td>0.525150</td>\n",
       "      <td>0.410487</td>\n",
       "      <td>1.050000</td>\n",
       "    </tr>\n",
       "  </tbody>\n",
       "</table>\n",
       "</div>"
      ],
      "text/plain": [
       "          0         1         2\n",
       "0  1.050000  0.820945  0.525150\n",
       "1  0.820945  1.050000  0.410487\n",
       "2  0.525150  0.410487  1.050000"
      ]
     },
     "execution_count": 5,
     "metadata": {},
     "output_type": "execute_result"
    }
   ],
   "source": [
    "data_norm.cov()"
   ]
  },
  {
   "cell_type": "markdown",
   "metadata": {},
   "source": [
    "# c)"
   ]
  },
  {
   "cell_type": "code",
   "execution_count": 12,
   "metadata": {
    "collapsed": false
   },
   "outputs": [],
   "source": [
    "from sklearn.decomposition import PCA\n",
    "PCA = PCA(n_components=3)\n",
    "Y_sklearn = PCA.fit_transform(data_norm)"
   ]
  },
  {
   "cell_type": "code",
   "execution_count": 74,
   "metadata": {
    "collapsed": false
   },
   "outputs": [
    {
     "data": {
      "text/plain": [
       "array([[ 2.78919132,  0.9272612 ,  0.28142325],\n",
       "       [ 2.69608467,  1.09209422,  0.30841198],\n",
       "       [ 2.13812061,  0.33972128,  0.26881819],\n",
       "       [ 0.74579217,  0.34631773, -0.51005695],\n",
       "       [ 0.35443379,  0.05530091, -0.08280035],\n",
       "       [ 0.55011298,  0.20080932, -0.29642865],\n",
       "       [ 1.30443206, -0.6426804 , -0.67198934],\n",
       "       [ 1.30443206, -0.6426804 , -0.67198934],\n",
       "       [ 0.26785781,  0.09545725, -0.626727  ],\n",
       "       [-1.36228469,  0.52174635,  0.63033563],\n",
       "       [-0.52432486, -0.96175084,  0.38743704],\n",
       "       [-0.8131107 , -0.94242623,  0.62805408],\n",
       "       [-1.17607139,  0.1920803 ,  0.57635817],\n",
       "       [ 0.04378092, -1.47557451,  0.06585381],\n",
       "       [-1.0888352 , -1.17245497, -0.27315965],\n",
       "       [-1.36815514, -0.67795591, -0.19219346],\n",
       "       [-2.47596902,  1.77521479, -0.02797951],\n",
       "       [-1.82422248,  0.62138365, -0.21690064],\n",
       "       [-1.53543664,  0.60205904, -0.45751767],\n",
       "       [-0.92584059,  0.43042109, -0.01604761],\n",
       "       [ 0.90001233, -0.68434387,  0.89709802]])"
      ]
     },
     "execution_count": 74,
     "metadata": {},
     "output_type": "execute_result"
    }
   ],
   "source": [
    "Y_sklearn"
   ]
  },
  {
   "cell_type": "code",
   "execution_count": 14,
   "metadata": {
    "collapsed": false
   },
   "outputs": [
    {
     "data": {
      "text/plain": [
       "array([[ 0.63135638,  0.60359147,  0.4868947 ],\n",
       "       [ 0.23565449,  0.44883482, -0.86198275],\n",
       "       [ 0.73882073, -0.65895724, -0.14113569]])"
      ]
     },
     "execution_count": 14,
     "metadata": {},
     "output_type": "execute_result"
    }
   ],
   "source": [
    "PCA.components_"
   ]
  },
  {
   "cell_type": "markdown",
   "metadata": {},
   "source": [
    "# Principal Components:\n",
    "-------------------------------------\n",
    "# c1 = 0.631*X1 + 0.603*X2 + 0.487*X3\n",
    "# c2 = 0.236*X1 + 0.449*X2 - 0.862*X3\n",
    "# c3 = 0.739*X1 - 0.659*X2 - 0.141*X3"
   ]
  },
  {
   "cell_type": "markdown",
   "metadata": {},
   "source": [
    "# d)"
   ]
  },
  {
   "cell_type": "code",
   "execution_count": 17,
   "metadata": {
    "collapsed": false
   },
   "outputs": [
    {
     "data": {
      "text/plain": [
       "array([ 0.71105783,  0.21990176,  0.06904042])"
      ]
     },
     "execution_count": 17,
     "metadata": {},
     "output_type": "execute_result"
    }
   ],
   "source": [
    "PCA.explained_variance_ratio_"
   ]
  },
  {
   "cell_type": "code",
   "execution_count": 94,
   "metadata": {
    "collapsed": false
   },
   "outputs": [
    {
     "data": {
      "text/plain": [
       "array([ 2.13317349,  0.65970527,  0.20712125])"
      ]
     },
     "execution_count": 94,
     "metadata": {},
     "output_type": "execute_result"
    }
   ],
   "source": [
    "PCA.explained_variance_"
   ]
  },
  {
   "cell_type": "markdown",
   "metadata": {},
   "source": [
    "# eigen values and eigen vectors:\n",
    "----------\n",
    "# 1) 2.133 & [ 0.631,  0.603,  0.486 ] \n",
    "# 2) 0.659 & [0.236,0.449,-0.862]\n",
    "# 3) 0.207 & [ 0.738, -0.658, -0.141]"
   ]
  },
  {
   "cell_type": "code",
   "execution_count": null,
   "metadata": {
    "collapsed": true
   },
   "outputs": [],
   "source": []
  }
 ],
 "metadata": {
  "kernelspec": {
   "display_name": "Python [Root]",
   "language": "python",
   "name": "Python [Root]"
  },
  "language_info": {
   "codemirror_mode": {
    "name": "ipython",
    "version": 2
   },
   "file_extension": ".py",
   "mimetype": "text/x-python",
   "name": "python",
   "nbconvert_exporter": "python",
   "pygments_lexer": "ipython2",
   "version": "2.7.11"
  }
 },
 "nbformat": 4,
 "nbformat_minor": 0
}
