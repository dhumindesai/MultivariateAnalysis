{
 "cells": [
  {
   "cell_type": "code",
   "execution_count": null,
   "metadata": {
    "collapsed": true
   },
   "outputs": [],
   "source": []
  },
  {
   "cell_type": "markdown",
   "metadata": {},
   "source": [
    "# Homework - 1"
   ]
  },
  {
   "cell_type": "code",
   "execution_count": 7,
   "metadata": {
    "collapsed": true
   },
   "outputs": [],
   "source": [
    "import numpy as np\n",
    "import pandas as pd\n",
    "from pandas import DataFrame, Series\n",
    "import matplotlib.pyplot as plt\n",
    "%matplotlib inline\n",
    "from scipy import stats\n",
    "import seaborn as sns"
   ]
  },
  {
   "cell_type": "code",
   "execution_count": 8,
   "metadata": {
    "collapsed": false
   },
   "outputs": [
    {
     "data": {
      "text/html": [
       "<div>\n",
       "<table border=\"1\" class=\"dataframe\">\n",
       "  <thead>\n",
       "    <tr style=\"text-align: right;\">\n",
       "      <th></th>\n",
       "      <th>X</th>\n",
       "      <th>Y</th>\n",
       "    </tr>\n",
       "  </thead>\n",
       "  <tbody>\n",
       "    <tr>\n",
       "      <th>0</th>\n",
       "      <td>8</td>\n",
       "      <td>859</td>\n",
       "    </tr>\n",
       "    <tr>\n",
       "      <th>1</th>\n",
       "      <td>5</td>\n",
       "      <td>682</td>\n",
       "    </tr>\n",
       "    <tr>\n",
       "      <th>2</th>\n",
       "      <td>3</td>\n",
       "      <td>471</td>\n",
       "    </tr>\n",
       "    <tr>\n",
       "      <th>3</th>\n",
       "      <td>9</td>\n",
       "      <td>708</td>\n",
       "    </tr>\n",
       "    <tr>\n",
       "      <th>4</th>\n",
       "      <td>11</td>\n",
       "      <td>1094</td>\n",
       "    </tr>\n",
       "    <tr>\n",
       "      <th>5</th>\n",
       "      <td>2</td>\n",
       "      <td>224</td>\n",
       "    </tr>\n",
       "    <tr>\n",
       "      <th>6</th>\n",
       "      <td>1</td>\n",
       "      <td>320</td>\n",
       "    </tr>\n",
       "    <tr>\n",
       "      <th>7</th>\n",
       "      <td>8</td>\n",
       "      <td>651</td>\n",
       "    </tr>\n",
       "    <tr>\n",
       "      <th>8</th>\n",
       "      <td>12</td>\n",
       "      <td>1049</td>\n",
       "    </tr>\n",
       "  </tbody>\n",
       "</table>\n",
       "</div>"
      ],
      "text/plain": [
       "    X     Y\n",
       "0   8   859\n",
       "1   5   682\n",
       "2   3   471\n",
       "3   9   708\n",
       "4  11  1094\n",
       "5   2   224\n",
       "6   1   320\n",
       "7   8   651\n",
       "8  12  1049"
      ]
     },
     "execution_count": 8,
     "metadata": {},
     "output_type": "execute_result"
    }
   ],
   "source": [
    "bus_df = DataFrame({'X': [8,5,3,9,11,2,1,8,12], 'Y': [859,682,471,708,1094,224,320,651,1049]})\n",
    "bus_df\n"
   ]
  },
  {
   "cell_type": "code",
   "execution_count": 9,
   "metadata": {
    "collapsed": false
   },
   "outputs": [
    {
     "data": {
      "text/plain": [
       "<matplotlib.axes._subplots.AxesSubplot at 0x11969a150>"
      ]
     },
     "execution_count": 9,
     "metadata": {},
     "output_type": "execute_result"
    },
    {
     "data": {
      "image/png": "[encoded data removed]",
      "text/plain": [
       "<matplotlib.figure.Figure at 0x10a3e8310>"
      ]
     },
     "metadata": {},
     "output_type": "display_data"
    }
   ],
   "source": [
    "# a. Scatter plot\n",
    "bus_df.plot(kind='scatter', x = 'X', y='Y')"
   ]
  },
  {
   "cell_type": "code",
   "execution_count": 10,
   "metadata": {
    "collapsed": true
   },
   "outputs": [],
   "source": [
    "slope, intercept, r_value, p_value, std_err = stats.linregress(bus_df.X,bus_df.Y)"
   ]
  },
  {
   "cell_type": "code",
   "execution_count": 31,
   "metadata": {
    "collapsed": false
   },
   "outputs": [
    {
     "name": "stdout",
     "output_type": "stream",
     "text": [
      "0     775.548415\n",
      "1     562.794014\n",
      "2     420.957746\n",
      "3     846.466549\n",
      "4     988.302817\n",
      "5     350.039613\n",
      "6     279.121479\n",
      "7     775.548415\n",
      "8    1059.220951\n",
      "Name: X, dtype: float64\n"
     ]
    }
   ],
   "source": [
    "predicted_y = slope*bus_df.X+intercept\n",
    "print predicted_y"
   ]
  },
  {
   "cell_type": "code",
   "execution_count": 12,
   "metadata": {
    "collapsed": false
   },
   "outputs": [
    {
     "name": "stdout",
     "output_type": "stream",
     "text": [
      "slope:  70.9181338028\n",
      "intercept:  208.20334507\n"
     ]
    }
   ],
   "source": [
    "print \"slope: \", slope\n",
    "print \"intercept: \", intercept"
   ]
  },
  {
   "cell_type": "code",
   "execution_count": 13,
   "metadata": {
    "collapsed": false
   },
   "outputs": [
    {
     "data": {
      "text/plain": [
       "<seaborn.axisgrid.FacetGrid at 0x119d5b1d0>"
      ]
     },
     "execution_count": 13,
     "metadata": {},
     "output_type": "execute_result"
    },
    {
     "data": {
      "image/png": "[encoded data removed]",
      "text/plain": [
       "<matplotlib.figure.Figure at 0x119d5b850>"
      ]
     },
     "metadata": {},
     "output_type": "display_data"
    }
   ],
   "source": [
    "# b. Regression line\n",
    "sns.lmplot('X','Y',bus_df)"
   ]
  },
  {
   "cell_type": "code",
   "execution_count": 28,
   "metadata": {
    "collapsed": false
   },
   "outputs": [
    {
     "name": "stdout",
     "output_type": "stream",
     "text": [
      "mean of Y:  673.111111111\n",
      "Sum of squares of Y:  722016.888889\n"
     ]
    }
   ],
   "source": [
    "# c.total sum of squares\n",
    "\n",
    "# total sum of square of Y\n",
    "Y_mean = bus_df['Y'].mean()\n",
    "print 'mean of Y: ',Y_mean\n",
    "\n",
    "Y_diff = np.array([(y-Y_mean)**2 for y in bus_df.Y])\n",
    "\n",
    "Y_TSS = Y_diff.sum()\n",
    "print \"Total Sum of squares of Y: \", Y_TSS"
   ]
  },
  {
   "cell_type": "code",
   "execution_count": 49,
   "metadata": {
    "collapsed": false
   },
   "outputs": [
    {
     "name": "stdout",
     "output_type": "stream",
     "text": [
      "Sum of Squares about regression:  87197.1540493\n"
     ]
    }
   ],
   "source": [
    "#d. sum of square about regression\n",
    "y_ypred = np.array([(y - Y_pred)**2 for y,Y_pred in zip(bus_df['Y'],predicted_y)])\n",
    "sum_about_reg = y_ypred.sum()\n",
    "\n",
    "print \"Sum of Squares about regression: \", sum_about_reg\n"
   ]
  },
  {
   "cell_type": "code",
   "execution_count": 50,
   "metadata": {
    "collapsed": false
   },
   "outputs": [
    {
     "name": "stdout",
     "output_type": "stream",
     "text": [
      "Sum of Squares due to regression:  634819.73484\n"
     ]
    }
   ],
   "source": [
    "# e. sum of square due regression \n",
    "y_ymean = np.array([(y - Y_mean)**2 for y in predicted_y])\n",
    "sum_due_reg = y_ymean.sum()\n",
    "\n",
    "print \"Sum of Squares due to regression: \", sum_due_reg"
   ]
  },
  {
   "cell_type": "code",
   "execution_count": 53,
   "metadata": {
    "collapsed": false
   },
   "outputs": [
    {
     "name": "stdout",
     "output_type": "stream",
     "text": [
      "Total Sum of squares of Y:  722016.888889\n",
      "Sum of Squares due to regression + Sum of Squares about regression 722016.888889\n"
     ]
    }
   ],
   "source": [
    "# f. Total Sum of Squares = Sum of Squares due to regression + Sum of Squares about regression\n",
    "print \"Total Sum of squares of Y: \", Y_TSS\n",
    "print \"Sum of Squares due to regression + Sum of Squares about regression\", sum_about_reg + sum_due_reg"
   ]
  },
  {
   "cell_type": "markdown",
   "metadata": {},
   "source": []
  },
  {
   "cell_type": "code",
   "execution_count": null,
   "metadata": {
    "collapsed": true
   },
   "outputs": [],
   "source": []
  }
 ],
 "metadata": {
  "anaconda-cloud": {},
  "kernelspec": {
   "display_name": "Python [Root]",
   "language": "python",
   "name": "Python [Root]"
  },
  "language_info": {
   "codemirror_mode": {
    "name": "ipython",
    "version": 2
   },
   "file_extension": ".py",
   "mimetype": "text/x-python",
   "name": "python",
   "nbconvert_exporter": "python",
   "pygments_lexer": "ipython2",
   "version": "2.7.11"
  }
 },
 "nbformat": 4,
 "nbformat_minor": 0
}
