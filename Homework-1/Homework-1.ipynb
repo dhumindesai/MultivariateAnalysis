{
 "cells": [
  {
   "cell_type": "markdown",
   "metadata": {},
   "source": [
    "# Homework - 1 \n",
    "Dhrumin Desai"
   ]
  },
  {
   "cell_type": "code",
   "execution_count": 76,
   "metadata": {
    "collapsed": false
   },
   "outputs": [],
   "source": [
    "import numpy as np\n",
    "import pandas as pd\n",
    "from pandas import DataFrame, Series\n",
    "import matplotlib.pyplot as plt\n",
    "%matplotlib inline\n",
    "from scipy import stats\n",
    "import seaborn as sns\n",
    "from __future__ import division"
   ]
  },
  {
   "cell_type": "markdown",
   "metadata": {},
   "source": [
    "# Q - 1"
   ]
  },
  {
   "cell_type": "code",
   "execution_count": 3,
   "metadata": {
    "collapsed": false
   },
   "outputs": [
    {
     "data": {
      "text/html": [
       "<div>\n",
       "<table border=\"1\" class=\"dataframe\">\n",
       "  <thead>\n",
       "    <tr style=\"text-align: right;\">\n",
       "      <th></th>\n",
       "      <th>X</th>\n",
       "      <th>Y</th>\n",
       "    </tr>\n",
       "  </thead>\n",
       "  <tbody>\n",
       "    <tr>\n",
       "      <th>0</th>\n",
       "      <td>8</td>\n",
       "      <td>859</td>\n",
       "    </tr>\n",
       "    <tr>\n",
       "      <th>1</th>\n",
       "      <td>5</td>\n",
       "      <td>682</td>\n",
       "    </tr>\n",
       "    <tr>\n",
       "      <th>2</th>\n",
       "      <td>3</td>\n",
       "      <td>471</td>\n",
       "    </tr>\n",
       "    <tr>\n",
       "      <th>3</th>\n",
       "      <td>9</td>\n",
       "      <td>708</td>\n",
       "    </tr>\n",
       "    <tr>\n",
       "      <th>4</th>\n",
       "      <td>11</td>\n",
       "      <td>1094</td>\n",
       "    </tr>\n",
       "    <tr>\n",
       "      <th>5</th>\n",
       "      <td>2</td>\n",
       "      <td>224</td>\n",
       "    </tr>\n",
       "    <tr>\n",
       "      <th>6</th>\n",
       "      <td>1</td>\n",
       "      <td>320</td>\n",
       "    </tr>\n",
       "    <tr>\n",
       "      <th>7</th>\n",
       "      <td>8</td>\n",
       "      <td>651</td>\n",
       "    </tr>\n",
       "    <tr>\n",
       "      <th>8</th>\n",
       "      <td>12</td>\n",
       "      <td>1049</td>\n",
       "    </tr>\n",
       "  </tbody>\n",
       "</table>\n",
       "</div>"
      ],
      "text/plain": [
       "    X     Y\n",
       "0   8   859\n",
       "1   5   682\n",
       "2   3   471\n",
       "3   9   708\n",
       "4  11  1094\n",
       "5   2   224\n",
       "6   1   320\n",
       "7   8   651\n",
       "8  12  1049"
      ]
     },
     "execution_count": 3,
     "metadata": {},
     "output_type": "execute_result"
    }
   ],
   "source": [
    "bus_df = DataFrame({'X': [8,5,3,9,11,2,1,8,12], 'Y': [859,682,471,708,1094,224,320,651,1049]})\n",
    "bus_df\n"
   ]
  },
  {
   "cell_type": "markdown",
   "metadata": {},
   "source": [
    "# a. Scatter plot"
   ]
  },
  {
   "cell_type": "code",
   "execution_count": 4,
   "metadata": {
    "collapsed": false
   },
   "outputs": [
    {
     "data": {
      "text/plain": [
       "<matplotlib.axes._subplots.AxesSubplot at 0x1171f84d0>"
      ]
     },
     "execution_count": 4,
     "metadata": {},
     "output_type": "execute_result"
    },
    {
     "data": {
      "image/png": "[encoded data removed]",
      "text/plain": [
       "<matplotlib.figure.Figure at 0x103dc4350>"
      ]
     },
     "metadata": {},
     "output_type": "display_data"
    }
   ],
   "source": [
    "# aScatter plot\n",
    "bus_df.plot(kind='scatter', x = 'X', y='Y')"
   ]
  },
  {
   "cell_type": "code",
   "execution_count": 5,
   "metadata": {
    "collapsed": true
   },
   "outputs": [],
   "source": [
    "slope, intercept, r_value, p_value, std_err = stats.linregress(bus_df.X,bus_df.Y)"
   ]
  },
  {
   "cell_type": "code",
   "execution_count": 6,
   "metadata": {
    "collapsed": false
   },
   "outputs": [
    {
     "name": "stdout",
     "output_type": "stream",
     "text": [
      "0     775.548415\n",
      "1     562.794014\n",
      "2     420.957746\n",
      "3     846.466549\n",
      "4     988.302817\n",
      "5     350.039613\n",
      "6     279.121479\n",
      "7     775.548415\n",
      "8    1059.220951\n",
      "Name: X, dtype: float64\n"
     ]
    }
   ],
   "source": [
    "predicted_y = slope*bus_df.X+intercept\n",
    "print predicted_y"
   ]
  },
  {
   "cell_type": "code",
   "execution_count": 7,
   "metadata": {
    "collapsed": false
   },
   "outputs": [
    {
     "name": "stdout",
     "output_type": "stream",
     "text": [
      "slope:  70.9181338028\n",
      "intercept:  208.20334507\n"
     ]
    }
   ],
   "source": [
    "print \"slope: \", slope\n",
    "print \"intercept: \", intercept"
   ]
  },
  {
   "cell_type": "markdown",
   "metadata": {},
   "source": [
    "# b. Regression line"
   ]
  },
  {
   "cell_type": "code",
   "execution_count": 8,
   "metadata": {
    "collapsed": false
   },
   "outputs": [
    {
     "data": {
      "text/plain": [
       "<seaborn.axisgrid.FacetGrid at 0x119698fd0>"
      ]
     },
     "execution_count": 8,
     "metadata": {},
     "output_type": "execute_result"
    },
    {
     "data": {
      "image/png": "[encoded data removed]",
      "text/plain": [
       "<matplotlib.figure.Figure at 0x119698f50>"
      ]
     },
     "metadata": {},
     "output_type": "display_data"
    }
   ],
   "source": [
    "\n",
    "sns.lmplot('X','Y',bus_df,ci=95, size=7)"
   ]
  },
  {
   "cell_type": "markdown",
   "metadata": {},
   "source": [
    "# c.total sum of squares"
   ]
  },
  {
   "cell_type": "code",
   "execution_count": 9,
   "metadata": {
    "collapsed": false
   },
   "outputs": [
    {
     "name": "stdout",
     "output_type": "stream",
     "text": [
      "mean of X:  6.55555555556\n",
      "Total Sum of squares of X:  126.222222222\n",
      "mean of Y:  673.111111111\n",
      "Total Sum of squares of Y:  722016.888889\n"
     ]
    }
   ],
   "source": [
    "# total sum of square of Y\n",
    "X_mean = bus_df['X'].mean()\n",
    "print 'mean of X: ',X_mean\n",
    "\n",
    "X_diff = np.array([(x-X_mean)**2 for x in bus_df.X])\n",
    "\n",
    "X_TSS = X_diff.sum()\n",
    "print \"Total Sum of squares of X: \", X_TSS\n",
    "\n",
    "# total sum of square of Y\n",
    "Y_mean = bus_df['Y'].mean()\n",
    "print 'mean of Y: ',Y_mean\n",
    "\n",
    "Y_diff = np.array([(y-Y_mean)**2 for y in bus_df.Y])\n",
    "\n",
    "Y_TSS = Y_diff.sum()\n",
    "print \"Total Sum of squares of Y: \", Y_TSS"
   ]
  },
  {
   "cell_type": "markdown",
   "metadata": {},
   "source": [
    "# d. sum of square about regression\n"
   ]
  },
  {
   "cell_type": "code",
   "execution_count": 10,
   "metadata": {
    "collapsed": false
   },
   "outputs": [
    {
     "name": "stdout",
     "output_type": "stream",
     "text": [
      "Sum of Squares about regression:  87197.1540493\n"
     ]
    }
   ],
   "source": [
    "y_ypred = np.array([(y - Y_pred)**2 for y,Y_pred in zip(bus_df['Y'],predicted_y)])\n",
    "sum_about_reg = y_ypred.sum()\n",
    "\n",
    "print \"Sum of Squares about regression: \", sum_about_reg\n"
   ]
  },
  {
   "cell_type": "markdown",
   "metadata": {},
   "source": [
    "# e. sum of square due regression \n"
   ]
  },
  {
   "cell_type": "code",
   "execution_count": 11,
   "metadata": {
    "collapsed": false
   },
   "outputs": [
    {
     "name": "stdout",
     "output_type": "stream",
     "text": [
      "Sum of Squares due to regression:  634819.73484\n"
     ]
    }
   ],
   "source": [
    "y_ymean = np.array([(y - Y_mean)**2 for y in predicted_y])\n",
    "sum_due_reg = y_ymean.sum()\n",
    "\n",
    "print \"Sum of Squares due to regression: \", sum_due_reg"
   ]
  },
  {
   "cell_type": "markdown",
   "metadata": {},
   "source": [
    "# f. Total Sum of Squares = Sum of Squares due to regression + Sum of Squares about regression\n"
   ]
  },
  {
   "cell_type": "code",
   "execution_count": 12,
   "metadata": {
    "collapsed": false
   },
   "outputs": [
    {
     "name": "stdout",
     "output_type": "stream",
     "text": [
      "Total Sum of squares of Y:  722016.888889\n",
      "Sum of Squares due to regression + Sum of Squares about regression 722016.888889\n"
     ]
    }
   ],
   "source": [
    "print \"Total Sum of squares of Y: \", Y_TSS\n",
    "print \"Sum of Squares due to regression + Sum of Squares about regression\", sum_about_reg + sum_due_reg"
   ]
  },
  {
   "cell_type": "markdown",
   "metadata": {},
   "source": [
    "# g)\tFind a 95% confidence interval for the slope\n"
   ]
  },
  {
   "cell_type": "markdown",
   "metadata": {},
   "source": [
    "SE = sb1 = sqrt [ Σ(yi - ŷi)2 / (n - 2) ] / sqrt [ Σ(xi - x)2 ]\n"
   ]
  },
  {
   "cell_type": "code",
   "execution_count": 13,
   "metadata": {
    "collapsed": false
   },
   "outputs": [],
   "source": [
    "SE = np.sqrt(sum_about_reg/7)\n",
    "se_y = np.sqrt ((sum_about_reg/7) /X_TSS)"
   ]
  },
  {
   "cell_type": "code",
   "execution_count": 14,
   "metadata": {
    "collapsed": false
   },
   "outputs": [],
   "source": [
    "t_val1 =  stats.t.ppf(1-0.025, 7)"
   ]
  },
  {
   "cell_type": "code",
   "execution_count": 15,
   "metadata": {
    "collapsed": false
   },
   "outputs": [
    {
     "name": "stdout",
     "output_type": "stream",
     "text": [
      "95% confidence interval of the slope is :  (47.427411891347489, 94.408855714286304)\n"
     ]
    }
   ],
   "source": [
    "print \"95% confidence interval of the slope is : \",(slope - t_val1*se_y, slope + t_val1*se_y)"
   ]
  },
  {
   "cell_type": "markdown",
   "metadata": {},
   "source": [
    "# h. Find a 90% confidence interval for the intercept\n"
   ]
  },
  {
   "cell_type": "markdown",
   "metadata": {},
   "source": [
    "Var(b0) = σ2(1/n+ Average(X)2 /SXX)"
   ]
  },
  {
   "cell_type": "code",
   "execution_count": 16,
   "metadata": {
    "collapsed": false
   },
   "outputs": [],
   "source": [
    "\n",
    "X2 = (bus_df['X'].mean())**2\n",
    "t2_val = stats.t.ppf(1-0.05, 7)\n",
    "\n",
    "se_b0 = SE*np.sqrt((1.0/9 + X2/X_TSS))\n"
   ]
  },
  {
   "cell_type": "code",
   "execution_count": 17,
   "metadata": {
    "collapsed": false
   },
   "outputs": [
    {
     "name": "stdout",
     "output_type": "stream",
     "text": [
      "90% confidence interval of the intercept is :  (66.106550628599507, 350.30013951224555)\n"
     ]
    }
   ],
   "source": [
    "print \"90% confidence interval of the intercept is : \",(intercept - t2_val*se_b0, intercept + t2_val*se_b0)"
   ]
  },
  {
   "cell_type": "markdown",
   "metadata": {},
   "source": [
    "# i.compute R^2"
   ]
  },
  {
   "cell_type": "code",
   "execution_count": 18,
   "metadata": {
    "collapsed": false
   },
   "outputs": [
    {
     "name": "stdout",
     "output_type": "stream",
     "text": [
      "Value of R_sqr:  0.879231143494\n"
     ]
    }
   ],
   "source": [
    "R_sqr = r_value ** 2\n",
    "print \"Value of R_sqr: \", R_sqr"
   ]
  },
  {
   "cell_type": "markdown",
   "metadata": {},
   "source": [
    "# j. Compute correlation between Maintenance Cost and Age\n"
   ]
  },
  {
   "cell_type": "code",
   "execution_count": 19,
   "metadata": {
    "collapsed": false
   },
   "outputs": [
    {
     "data": {
      "text/html": [
       "<div>\n",
       "<table border=\"1\" class=\"dataframe\">\n",
       "  <thead>\n",
       "    <tr style=\"text-align: right;\">\n",
       "      <th></th>\n",
       "      <th>X</th>\n",
       "      <th>Y</th>\n",
       "    </tr>\n",
       "  </thead>\n",
       "  <tbody>\n",
       "    <tr>\n",
       "      <th>X</th>\n",
       "      <td>1.000000</td>\n",
       "      <td>0.937673</td>\n",
       "    </tr>\n",
       "    <tr>\n",
       "      <th>Y</th>\n",
       "      <td>0.937673</td>\n",
       "      <td>1.000000</td>\n",
       "    </tr>\n",
       "  </tbody>\n",
       "</table>\n",
       "</div>"
      ],
      "text/plain": [
       "          X         Y\n",
       "X  1.000000  0.937673\n",
       "Y  0.937673  1.000000"
      ]
     },
     "execution_count": 19,
     "metadata": {},
     "output_type": "execute_result"
    }
   ],
   "source": [
    "bus_df.corr()"
   ]
  },
  {
   "cell_type": "code",
   "execution_count": 20,
   "metadata": {
    "collapsed": false
   },
   "outputs": [
    {
     "name": "stdout",
     "output_type": "stream",
     "text": [
      "correlation is 0.937673\n"
     ]
    }
   ],
   "source": [
    "print \"correlation is 0.937673\""
   ]
  },
  {
   "cell_type": "markdown",
   "metadata": {},
   "source": [
    "# k. compare R^2 and Correlation"
   ]
  },
  {
   "cell_type": "markdown",
   "metadata": {},
   "source": [
    "If we take square root of the R^2, it is same as correlation. So essetianly R-value is same as Correlation"
   ]
  },
  {
   "cell_type": "code",
   "execution_count": 21,
   "metadata": {
    "collapsed": false
   },
   "outputs": [
    {
     "data": {
      "text/plain": [
       "0.93767326051976718"
      ]
     },
     "execution_count": 21,
     "metadata": {},
     "output_type": "execute_result"
    }
   ],
   "source": [
    "np.sqrt(R_sqr)"
   ]
  },
  {
   "cell_type": "markdown",
   "metadata": {},
   "source": [
    "# l.Forecast the annual maintenance cost for a bus that is 4.5years old and one that is 7 years old.\n"
   ]
  },
  {
   "cell_type": "code",
   "execution_count": 22,
   "metadata": {
    "collapsed": false
   },
   "outputs": [
    {
     "name": "stdout",
     "output_type": "stream",
     "text": [
      "The annual maintenance cost of 4.5 years old bus should be around:  527.334947183\n"
     ]
    }
   ],
   "source": [
    "y4 = intercept +   slope * 4.5\n",
    "print \"The annual maintenance cost of 4.5 years old bus should be around: \", y4"
   ]
  },
  {
   "cell_type": "code",
   "execution_count": 23,
   "metadata": {
    "collapsed": false
   },
   "outputs": [
    {
     "name": "stdout",
     "output_type": "stream",
     "text": [
      "The annual maintenance cost of 7 years old bus should be around:  704.63028169\n"
     ]
    }
   ],
   "source": [
    "y7 = intercept +   slope * 7\n",
    "print \"The annual maintenance cost of 7 years old bus should be around: \", y7"
   ]
  },
  {
   "cell_type": "markdown",
   "metadata": {
    "collapsed": true
   },
   "source": [
    "# Q - 2"
   ]
  },
  {
   "cell_type": "markdown",
   "metadata": {},
   "source": [
    "# a) What is the mean and standard deviation of a random roll of this die?\n"
   ]
  },
  {
   "cell_type": "code",
   "execution_count": 90,
   "metadata": {
    "collapsed": false
   },
   "outputs": [
    {
     "name": "stdout",
     "output_type": "stream",
     "text": [
      "die:  [1 2 3 4 5 6]\n",
      "probability:  [ 0.16666667  0.16666667  0.16666667  0.16666667  0.16666667  0.16666667]\n"
     ]
    }
   ],
   "source": [
    "die1 = np.array([1,2,3,4,5,6])\n",
    "probability1 = np.array([1/6.0]*6)\n",
    "print \"die: \", die1\n",
    "print \"probability: \",probability1"
   ]
  },
  {
   "cell_type": "code",
   "execution_count": 91,
   "metadata": {
    "collapsed": false
   },
   "outputs": [
    {
     "data": {
      "text/plain": [
       "array([ 0.16666667,  0.33333333,  0.5       ,  0.66666667,  0.83333333,  1.        ])"
      ]
     },
     "execution_count": 91,
     "metadata": {},
     "output_type": "execute_result"
    }
   ],
   "source": [
    "xPx = die1 * probability1\n",
    "\n",
    "xPx"
   ]
  },
  {
   "cell_type": "code",
   "execution_count": 92,
   "metadata": {
    "collapsed": false
   },
   "outputs": [
    {
     "name": "stdout",
     "output_type": "stream",
     "text": [
      "Mean:  3.5\n"
     ]
    }
   ],
   "source": [
    "# now we know that mean = SUM OF XPX\n",
    "mean = xPx.sum()\n",
    "print \"Mean: \", mean"
   ]
  },
  {
   "cell_type": "code",
   "execution_count": 93,
   "metadata": {
    "collapsed": false
   },
   "outputs": [
    {
     "name": "stdout",
     "output_type": "stream",
     "text": [
      "standard deviation of random roll dice:  1.70782512766\n"
     ]
    }
   ],
   "source": [
    "std = die1.std()\n",
    "print \"standard deviation of random roll dice: \", std"
   ]
  },
  {
   "cell_type": "markdown",
   "metadata": {},
   "source": [
    "# b.\tUse random number generator to simulate 100 rolls of this die and calculate the following number:\n"
   ]
  },
  {
   "cell_type": "code",
   "execution_count": 88,
   "metadata": {
    "collapsed": false
   },
   "outputs": [],
   "source": [
    "from numpy.random import randint\n",
    "nums = []\n",
    "for i in range(1000):\n",
    "    rand_100 = np.array ([randint(1,7) for x in range(100)])\n",
    "    n = 100\n",
    "    num = (rand_100.sum() - n * mean) / (np.sqrt(n) * std)\n",
    "    nums.append(num)"
   ]
  },
  {
   "cell_type": "code",
   "execution_count": 46,
   "metadata": {
    "collapsed": false
   },
   "outputs": [],
   "source": [
    "import matplotlib.pyplot as plt\n",
    "%matplotlib inline"
   ]
  },
  {
   "cell_type": "code",
   "execution_count": 89,
   "metadata": {
    "collapsed": false
   },
   "outputs": [
    {
     "data": {
      "text/plain": [
       "(array([   3.,   14.,   49.,  135.,  224.,  255.,  217.,   74.,   23.,    6.]),\n",
       " array([-3.45468626, -2.79302601, -2.13136576, -1.46970551, -0.80804526,\n",
       "        -0.14638501,  0.51527524,  1.17693549,  1.83859574,  2.50025599,\n",
       "         3.16191624]),\n",
       " <a list of 10 Patch objects>)"
      ]
     },
     "execution_count": 89,
     "metadata": {},
     "output_type": "execute_result"
    },
    {
     "data": {
      "image/png": "[encoded data removed]",
      "text/plain": [
       "<matplotlib.figure.Figure at 0x11d8b4490>"
      ]
     },
     "metadata": {},
     "output_type": "display_data"
    }
   ],
   "source": [
    "plt.hist(nums)"
   ]
  },
  {
   "cell_type": "markdown",
   "metadata": {},
   "source": [
    "# C. Change the numbers on the face of die to 1, √2, 3, 16, 5, √6 and the probability of these numbers occurring to 5%, 10%, 20%, 30%, 25% , and 10% respectively.  Repeat part a and b\n"
   ]
  },
  {
   "cell_type": "code",
   "execution_count": 96,
   "metadata": {
    "collapsed": false
   },
   "outputs": [
    {
     "name": "stdout",
     "output_type": "stream",
     "text": [
      "die:  [  1.           1.41421356   3.          16.           5.           2.44948974]\n",
      "probability:  [ 0.05  0.1   0.2   0.3   0.25  0.1 ]\n"
     ]
    }
   ],
   "source": [
    "die2 = np.array([1,np.sqrt(2),3,16,5,np.sqrt(6)])\n",
    "probability2 = np.array([0.05,0.1,0.2,0.3,0.25,0.1])\n",
    "print \"die: \", die2\n",
    "print \"probability: \",probability2"
   ]
  },
  {
   "cell_type": "code",
   "execution_count": 97,
   "metadata": {
    "collapsed": false
   },
   "outputs": [
    {
     "data": {
      "text/plain": [
       "array([ 0.05      ,  0.14142136,  0.6       ,  4.8       ,  1.25      ,\n",
       "        0.24494897])"
      ]
     },
     "execution_count": 97,
     "metadata": {},
     "output_type": "execute_result"
    }
   ],
   "source": [
    "xPx2 = die2 * probability2\n",
    "xPx2"
   ]
  },
  {
   "cell_type": "code",
   "execution_count": 99,
   "metadata": {
    "collapsed": false
   },
   "outputs": [
    {
     "name": "stdout",
     "output_type": "stream",
     "text": [
      "Mean of the changed values:  1.18106172175\n"
     ]
    }
   ],
   "source": [
    "mean2 = xPx2.mean()\n",
    "print \"Mean of the changed values: \", mean2"
   ]
  },
  {
   "cell_type": "code",
   "execution_count": 105,
   "metadata": {
    "collapsed": false
   },
   "outputs": [
    {
     "name": "stdout",
     "output_type": "stream",
     "text": [
      "Standard deviation of the changed values:  7.86252265824\n"
     ]
    }
   ],
   "source": [
    "# now standard deviation = square root of sum(x^2*p(x)) - mean^2\n",
    "x2Px = (die2 ** 2) * probability2\n",
    "std2 = np.sqrt(x2Px.sum()) - mean2**2\n",
    "print \"Standard deviation of the changed values: \", std2"
   ]
  },
  {
   "cell_type": "code",
   "execution_count": 112,
   "metadata": {
    "collapsed": true
   },
   "outputs": [],
   "source": [
    "import random\n",
    "nums2 = []\n",
    "for i in range(1000):\n",
    "    rand_100 = np.array ([random.choice(die2) for x in range(100)])\n",
    "    n = 100\n",
    "    num = (rand_100.sum() - n * mean2) / (np.sqrt(n) * std2)\n",
    "    nums2.append(num)"
   ]
  },
  {
   "cell_type": "code",
   "execution_count": 113,
   "metadata": {
    "collapsed": false
   },
   "outputs": [
    {
     "data": {
      "text/plain": [
       "(array([   6.,   20.,   91.,  173.,  266.,  225.,  141.,   52.,   23.,    3.]),\n",
       " array([ 2.51565927,  2.94811566,  3.38057206,  3.81302846,  4.24548485,\n",
       "         4.67794125,  5.11039764,  5.54285404,  5.97531044,  6.40776683,\n",
       "         6.84022323]),\n",
       " <a list of 10 Patch objects>)"
      ]
     },
     "execution_count": 113,
     "metadata": {},
     "output_type": "execute_result"
    },
    {
     "data": {
      "image/png": "[encoded data removed]",
      "text/plain": [
       "<matplotlib.figure.Figure at 0x12e3ea290>"
      ]
     },
     "metadata": {},
     "output_type": "display_data"
    }
   ],
   "source": [
    "plt.hist(nums2)"
   ]
  },
  {
   "cell_type": "code",
   "execution_count": null,
   "metadata": {
    "collapsed": false
   },
   "outputs": [],
   "source": []
  },
  {
   "cell_type": "code",
   "execution_count": null,
   "metadata": {
    "collapsed": true
   },
   "outputs": [],
   "source": []
  }
 ],
 "metadata": {
  "anaconda-cloud": {},
  "kernelspec": {
   "display_name": "Python [Root]",
   "language": "python",
   "name": "Python [Root]"
  },
  "language_info": {
   "codemirror_mode": {
    "name": "ipython",
    "version": 2
   },
   "file_extension": ".py",
   "mimetype": "text/x-python",
   "name": "python",
   "nbconvert_exporter": "python",
   "pygments_lexer": "ipython2",
   "version": "2.7.11"
  }
 },
 "nbformat": 4,
 "nbformat_minor": 0
}
