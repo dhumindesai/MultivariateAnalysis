{
 "cells": [
  {
   "cell_type": "code",
   "execution_count": 2,
   "metadata": {
    "collapsed": true
   },
   "outputs": [],
   "source": [
    "import numpy as np\n",
    "import pandas as pd\n",
    "from pandas import DataFrame, Series\n",
    "import matplotlib.pyplot as plt\n",
    "%matplotlib inline\n",
    "import scipy\n",
    "from scipy import stats\n",
    "import seaborn as sns\n",
    "from __future__ import division"
   ]
  },
  {
   "cell_type": "code",
   "execution_count": 3,
   "metadata": {
    "collapsed": false
   },
   "outputs": [],
   "source": [
    "data = pd.DataFrame({'GPA':[2.96,3.14,3.22,3.29,3.69,3.46,3.03,3.19,3.63,3.59,3.30,3.40,2.86,2.85,3.14,3.28,2.89,3.15,3.50,2.89], 'GMAT':[569,473,482,527,505,693,626,663,447,588,563,553,494,496,419,371,447,313,402,485],'Admitted':[1,1,1,1,1,1,1,1,1,1,1,1,0,0,0,0,0,0,0,0]})"
   ]
  },
  {
   "cell_type": "code",
   "execution_count": 6,
   "metadata": {
    "collapsed": true
   },
   "outputs": [],
   "source": [
    "X = data[['GPA','GMAT']].values\n",
    "y = data['Admitted'].values"
   ]
  },
  {
   "cell_type": "markdown",
   "metadata": {},
   "source": [
    "# a) "
   ]
  },
  {
   "cell_type": "code",
   "execution_count": 7,
   "metadata": {
    "collapsed": false
   },
   "outputs": [
    {
     "data": {
      "text/plain": [
       "<matplotlib.text.Text at 0x1174c3950>"
      ]
     },
     "execution_count": 7,
     "metadata": {},
     "output_type": "execute_result"
    },
    {
     "data": {
      "image/png": "[encoded data removed]",
      "text/plain": [
       "<matplotlib.figure.Figure at 0x11721c410>"
      ]
     },
     "metadata": {},
     "output_type": "display_data"
    }
   ],
   "source": [
    "from matplotlib.colors import ListedColormap\n",
    "\n",
    "colors = ('red','blue','lightgreen','gray','cyan')\n",
    "cmap = ListedColormap(colors[:len(np.unique(y))])\n",
    "markers = ('s', 'v', 'o', '^', 'v')\n",
    "\n",
    "for idx,cl in enumerate(np.unique(y)):\n",
    "    plt.scatter(x=X[y == cl,0],y=X[y==cl,1],alpha=0.8,c=cmap(idx),marker = markers[idx], label=cl,s=100)\n",
    "plt.legend(['Waiting List','Admiited'])\n",
    "plt.ylabel('GMAT')\n",
    "plt.xlabel('GPA')"
   ]
  },
  {
   "cell_type": "markdown",
   "metadata": {},
   "source": [
    "# b)"
   ]
  },
  {
   "cell_type": "code",
   "execution_count": 9,
   "metadata": {
    "collapsed": false
   },
   "outputs": [
    {
     "data": {
      "text/plain": [
       "array([ 0.8241807 ,  0.00336752])"
      ]
     },
     "execution_count": 9,
     "metadata": {},
     "output_type": "execute_result"
    }
   ],
   "source": [
    "from sklearn.linear_model import LinearRegression\n",
    "mdl = LinearRegression(normalize=True)\n",
    "mdl = mdl.fit(X,y)\n",
    "mdl.coef_"
   ]
  },
  {
   "cell_type": "code",
   "execution_count": 27,
   "metadata": {
    "collapsed": true
   },
   "outputs": [],
   "source": []
  },
  {
   "cell_type": "code",
   "execution_count": 10,
   "metadata": {
    "collapsed": false
   },
   "outputs": [],
   "source": [
    "#Plotting Decision Boundary\n",
    "from matplotlib.colors import ListedColormap\n",
    "\n",
    "def plot_decision_regions(X,y,classifier,test_idx =None, resolution=0.01):\n",
    "    #setup marker generator and colormap\n",
    "    markers = ('s', 'v', 'o', '^', 'v')\n",
    "    colors = ('red','blue','lightgreen','gray','cyan')\n",
    "    cmap = ListedColormap(colors[:len(np.unique(y))])\n",
    "    \n",
    "    #plot the decision surface \n",
    "    x1_min, x1_max = X[:,0].min() - 0.3, X[:,0].max() +0.3\n",
    "    x2_min, x2_max = X[:,1].min() - 100, X[:,1].max() + 100\n",
    "    xx1, xx2 = np.meshgrid(np.arange(x1_min,x1_max,resolution),np.arange(x2_min,x2_max,resolution))\n",
    "    Z = classifier.predict(np.array([xx1.ravel(),xx2.ravel()]).T)\n",
    "    Z = Z.reshape(xx1.shape)\n",
    "    \n",
    "    plt.contourf(xx1,xx2,Z,alpha=0.4,cmap=cmap)\n",
    "    plt.xlim(xx1.min(),xx1.max())\n",
    "    plt.ylim(xx2.min(),xx2.max())\n",
    "    \n",
    "    #plot all samples\n",
    "    for idx,cl in enumerate(np.unique(y)):\n",
    "        plt.scatter(x=X[y == cl,0],y=X[y==cl,1],alpha=0.8,c=cmap(idx),marker = markers[idx], label=cl,s=50)\n",
    "    \n",
    "    #highlight test samples\n",
    "    if test_idx:\n",
    "        x_test, y_test = X[test_idx, :], y[test_idx]\n",
    "        plt.scatter(X_test[:,0],X_test[:,1],c='',alpha=1.0,linewidths=1,marker='o',label = 'test set')"
   ]
  },
  {
   "cell_type": "code",
   "execution_count": 12,
   "metadata": {
    "collapsed": false,
    "scrolled": true
   },
   "outputs": [
    {
     "data": {
      "image/png": "[encoded data removed]",
      "text/plain": [
       "<matplotlib.figure.Figure at 0x11721cb90>"
      ]
     },
     "metadata": {},
     "output_type": "display_data"
    }
   ],
   "source": [
    "plt.rcParams['figure.figsize']=(7,7)\n",
    "plot_decision_regions(X=X,y=y,classifier=mdl)\n",
    "plt.show()\n"
   ]
  },
  {
   "cell_type": "markdown",
   "metadata": {
    "collapsed": false
   },
   "source": [
    "#  Discriminant Function:\n",
    "# Z = 0.4832 (GPA) + 0.00197(GMAT)"
   ]
  },
  {
   "cell_type": "code",
   "execution_count": 13,
   "metadata": {
    "collapsed": false
   },
   "outputs": [],
   "source": [
    "# find invSW via S1 and S2\n",
    "# S1 = sum(xi - mu_1)(xi- mu_1)t\n",
    "x1 = X[:12,:]\n",
    "x2 = X[12:,:]\n",
    "mu_1 = np.mean(x1,axis=0)\n",
    "mu_2 = np.mean(x2,axis=0)"
   ]
  },
  {
   "cell_type": "code",
   "execution_count": 22,
   "metadata": {
    "collapsed": false
   },
   "outputs": [],
   "source": [
    "x1_dif =  np.array([[x1[i,0] - mu_1[0],x1[i,1] - mu_1[1]] for i in range(12)])\n",
    "x2_dif =  np.array([[x2[i,0] - mu_2[0],x2[i,1] - mu_2[1]] for i in range(8)])\n"
   ]
  },
  {
   "cell_type": "code",
   "execution_count": 15,
   "metadata": {
    "collapsed": false
   },
   "outputs": [],
   "source": [
    "S1 = np.matmul(x1_dif.T,x1_dif)\n",
    "S2 = np.matmul(x2_dif.T,x2_dif)"
   ]
  },
  {
   "cell_type": "code",
   "execution_count": 16,
   "metadata": {
    "collapsed": false
   },
   "outputs": [],
   "source": [
    "SW = S1+S2"
   ]
  },
  {
   "cell_type": "code",
   "execution_count": 17,
   "metadata": {
    "collapsed": false
   },
   "outputs": [],
   "source": [
    "SW_inv = np.linalg.inv(SW)"
   ]
  },
  {
   "cell_type": "code",
   "execution_count": 18,
   "metadata": {
    "collapsed": true
   },
   "outputs": [],
   "source": [
    "mu_deff = mu_1 - mu_2"
   ]
  },
  {
   "cell_type": "code",
   "execution_count": 25,
   "metadata": {
    "collapsed": false
   },
   "outputs": [],
   "source": [
    "e = np.matmul(SW_inv,mu_deff)"
   ]
  },
  {
   "cell_type": "code",
   "execution_count": 26,
   "metadata": {
    "collapsed": false
   },
   "outputs": [],
   "source": [
    "z_new =  np.matmul(X,e)"
   ]
  },
  {
   "cell_type": "code",
   "execution_count": 27,
   "metadata": {
    "collapsed": false
   },
   "outputs": [
    {
     "data": {
      "text/plain": [
       "(array([ 1.,  0.,  0.,  0.,  1.,  2.,  3.,  0.,  0.,  1.]),\n",
       " array([ 2.14042657,  2.17491616,  2.20940574,  2.24389533,  2.27838492,\n",
       "         2.31287451,  2.34736409,  2.38185368,  2.41634327,  2.45083286,\n",
       "         2.48532244]),\n",
       " <a list of 10 Patch objects>)"
      ]
     },
     "execution_count": 27,
     "metadata": {},
     "output_type": "execute_result"
    },
    {
     "data": {
      "image/png": "[encoded data removed]",
      "text/plain": [
       "<matplotlib.figure.Figure at 0x103ee1b10>"
      ]
     },
     "metadata": {},
     "output_type": "display_data"
    }
   ],
   "source": [
    "plt.hist(z_new[:12])\n",
    "plt.hist(z_new[12:])"
   ]
  },
  {
   "cell_type": "code",
   "execution_count": 180,
   "metadata": {
    "collapsed": false
   },
   "outputs": [],
   "source": [
    "mean_z1 = np.mean(z_new[:12])\n",
    "mean_z2 = np.mean(z_new[12:])\n"
   ]
  },
  {
   "cell_type": "code",
   "execution_count": 183,
   "metadata": {
    "collapsed": false
   },
   "outputs": [
    {
     "data": {
      "text/plain": [
       "2.518616663739925"
      ]
     },
     "execution_count": 183,
     "metadata": {},
     "output_type": "execute_result"
    }
   ],
   "source": [
    "c_new = (mean_z1+mean_z2)/2\n",
    "c_new"
   ]
  },
  {
   "cell_type": "markdown",
   "metadata": {},
   "source": [
    "# Cut - off point : 2.5186"
   ]
  },
  {
   "cell_type": "code",
   "execution_count": 226,
   "metadata": {
    "collapsed": false
   },
   "outputs": [
    {
     "name": "stdout",
     "output_type": "stream",
     "text": [
      "0.519816958707\n",
      "0.590994671904\n",
      "0.457919436003\n",
      "0.48409311646\n"
     ]
    }
   ],
   "source": [
    "new_values = [[3.21,530],[3.26,664],[3.04,446],[3.00,509]]\n",
    "for x in new_values:\n",
    "    z = x[0]*e[0] + x[1]*e[1]\n",
    "    print 1 / (1+np.exp(-z+c_new))"
   ]
  },
  {
   "cell_type": "markdown",
   "metadata": {
    "collapsed": true
   },
   "source": [
    "# c) What is the chance that an applicant with GPA of 3.21 and GMAT of 530 is admitted to the program?\n",
    "\n",
    "# ANS: 51.99%\n"
   ]
  },
  {
   "cell_type": "markdown",
   "metadata": {},
   "source": [
    "# d) What is the chance that an applicant with GPA of 3.26 and GMAT of 664 is waitlisted? \n",
    "\n",
    "# ANS: 48.9 %"
   ]
  },
  {
   "cell_type": "markdown",
   "metadata": {},
   "source": [
    "# e) What is the chance that an applicant with GPA of 3.04 and GMAT of 446 is admitted to the program?\n",
    "\n",
    "# ANS: 45.79 %"
   ]
  },
  {
   "cell_type": "markdown",
   "metadata": {},
   "source": [
    "# f)  What is the chance that an applicant with GPA of 3.00 and GMAT of 509 is waitlisted? \n",
    "\n",
    "# ANS: 51.60 %"
   ]
  },
  {
   "cell_type": "code",
   "execution_count": null,
   "metadata": {
    "collapsed": true
   },
   "outputs": [],
   "source": []
  }
 ],
 "metadata": {
  "anaconda-cloud": {},
  "kernelspec": {
   "display_name": "Python [Root]",
   "language": "python",
   "name": "Python [Root]"
  },
  "language_info": {
   "codemirror_mode": {
    "name": "ipython",
    "version": 2
   },
   "file_extension": ".py",
   "mimetype": "text/x-python",
   "name": "python",
   "nbconvert_exporter": "python",
   "pygments_lexer": "ipython2",
   "version": "2.7.11"
  }
 },
 "nbformat": 4,
 "nbformat_minor": 0
}
