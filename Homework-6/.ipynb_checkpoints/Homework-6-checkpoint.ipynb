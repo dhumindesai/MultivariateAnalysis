{
 "cells": [
  {
   "cell_type": "code",
   "execution_count": 1,
   "metadata": {
    "collapsed": true
   },
   "outputs": [],
   "source": [
    "import numpy as np\n",
    "import pandas as pd\n",
    "from pandas import DataFrame, Series\n",
    "import matplotlib.pyplot as plt\n",
    "%matplotlib inline\n",
    "import scipy\n",
    "from scipy import stats\n",
    "import seaborn as sns\n",
    "from __future__ import division"
   ]
  },
  {
   "cell_type": "code",
   "execution_count": 125,
   "metadata": {
    "collapsed": true
   },
   "outputs": [],
   "source": [
    "data = pd.DataFrame({'GPA':[2.96,3.14,3.22,3.29,3.69,3.46,3.03,3.19,3.63,3.59,3.30,3.40,2.86,2.85,3.14,3.28,2.89,3.15,3.50,2.89], 'GMAT':[569,473,482,527,505,693,626,663,447,588,563,553,494,496,419,371,447,313,402,485],'Admitted':[1,1,1,1,1,1,1,1,1,1,1,1,0,0,0,0,0,0,0,0]})"
   ]
  },
  {
   "cell_type": "code",
   "execution_count": 22,
   "metadata": {
    "collapsed": false
   },
   "outputs": [
    {
     "data": {
      "text/html": [
       "<div>\n",
       "<table border=\"1\" class=\"dataframe\">\n",
       "  <thead>\n",
       "    <tr style=\"text-align: right;\">\n",
       "      <th></th>\n",
       "      <th>Admitted</th>\n",
       "      <th>GMAT</th>\n",
       "      <th>GPA</th>\n",
       "    </tr>\n",
       "  </thead>\n",
       "  <tbody>\n",
       "    <tr>\n",
       "      <th>0</th>\n",
       "      <td>0.4</td>\n",
       "      <td>569</td>\n",
       "      <td>2.96</td>\n",
       "    </tr>\n",
       "    <tr>\n",
       "      <th>1</th>\n",
       "      <td>0.4</td>\n",
       "      <td>473</td>\n",
       "      <td>3.14</td>\n",
       "    </tr>\n",
       "    <tr>\n",
       "      <th>2</th>\n",
       "      <td>0.4</td>\n",
       "      <td>482</td>\n",
       "      <td>3.22</td>\n",
       "    </tr>\n",
       "    <tr>\n",
       "      <th>3</th>\n",
       "      <td>0.4</td>\n",
       "      <td>527</td>\n",
       "      <td>3.29</td>\n",
       "    </tr>\n",
       "    <tr>\n",
       "      <th>4</th>\n",
       "      <td>0.4</td>\n",
       "      <td>505</td>\n",
       "      <td>3.69</td>\n",
       "    </tr>\n",
       "    <tr>\n",
       "      <th>5</th>\n",
       "      <td>0.4</td>\n",
       "      <td>693</td>\n",
       "      <td>3.46</td>\n",
       "    </tr>\n",
       "    <tr>\n",
       "      <th>6</th>\n",
       "      <td>0.4</td>\n",
       "      <td>626</td>\n",
       "      <td>3.03</td>\n",
       "    </tr>\n",
       "    <tr>\n",
       "      <th>7</th>\n",
       "      <td>0.4</td>\n",
       "      <td>663</td>\n",
       "      <td>3.19</td>\n",
       "    </tr>\n",
       "    <tr>\n",
       "      <th>8</th>\n",
       "      <td>0.4</td>\n",
       "      <td>447</td>\n",
       "      <td>3.63</td>\n",
       "    </tr>\n",
       "    <tr>\n",
       "      <th>9</th>\n",
       "      <td>0.4</td>\n",
       "      <td>588</td>\n",
       "      <td>3.59</td>\n",
       "    </tr>\n",
       "    <tr>\n",
       "      <th>10</th>\n",
       "      <td>0.4</td>\n",
       "      <td>563</td>\n",
       "      <td>3.30</td>\n",
       "    </tr>\n",
       "    <tr>\n",
       "      <th>11</th>\n",
       "      <td>0.4</td>\n",
       "      <td>553</td>\n",
       "      <td>3.40</td>\n",
       "    </tr>\n",
       "    <tr>\n",
       "      <th>12</th>\n",
       "      <td>0.6</td>\n",
       "      <td>494</td>\n",
       "      <td>2.86</td>\n",
       "    </tr>\n",
       "    <tr>\n",
       "      <th>13</th>\n",
       "      <td>0.6</td>\n",
       "      <td>496</td>\n",
       "      <td>2.85</td>\n",
       "    </tr>\n",
       "    <tr>\n",
       "      <th>14</th>\n",
       "      <td>0.6</td>\n",
       "      <td>419</td>\n",
       "      <td>3.14</td>\n",
       "    </tr>\n",
       "    <tr>\n",
       "      <th>15</th>\n",
       "      <td>0.6</td>\n",
       "      <td>371</td>\n",
       "      <td>3.28</td>\n",
       "    </tr>\n",
       "    <tr>\n",
       "      <th>16</th>\n",
       "      <td>0.6</td>\n",
       "      <td>447</td>\n",
       "      <td>2.89</td>\n",
       "    </tr>\n",
       "    <tr>\n",
       "      <th>17</th>\n",
       "      <td>0.6</td>\n",
       "      <td>313</td>\n",
       "      <td>3.15</td>\n",
       "    </tr>\n",
       "    <tr>\n",
       "      <th>18</th>\n",
       "      <td>0.6</td>\n",
       "      <td>402</td>\n",
       "      <td>3.50</td>\n",
       "    </tr>\n",
       "    <tr>\n",
       "      <th>19</th>\n",
       "      <td>0.6</td>\n",
       "      <td>485</td>\n",
       "      <td>2.89</td>\n",
       "    </tr>\n",
       "  </tbody>\n",
       "</table>\n",
       "</div>"
      ],
      "text/plain": [
       "    Admitted  GMAT   GPA\n",
       "0        0.4   569  2.96\n",
       "1        0.4   473  3.14\n",
       "2        0.4   482  3.22\n",
       "3        0.4   527  3.29\n",
       "4        0.4   505  3.69\n",
       "5        0.4   693  3.46\n",
       "6        0.4   626  3.03\n",
       "7        0.4   663  3.19\n",
       "8        0.4   447  3.63\n",
       "9        0.4   588  3.59\n",
       "10       0.4   563  3.30\n",
       "11       0.4   553  3.40\n",
       "12       0.6   494  2.86\n",
       "13       0.6   496  2.85\n",
       "14       0.6   419  3.14\n",
       "15       0.6   371  3.28\n",
       "16       0.6   447  2.89\n",
       "17       0.6   313  3.15\n",
       "18       0.6   402  3.50\n",
       "19       0.6   485  2.89"
      ]
     },
     "execution_count": 22,
     "metadata": {},
     "output_type": "execute_result"
    }
   ],
   "source": [
    "#y1 = 8/20\n",
    "#y0 = 12/20\n",
    "#data['Admitted'] = data['Admitted'].map({1:y1,0:y0})\n",
    "#data"
   ]
  },
  {
   "cell_type": "markdown",
   "metadata": {},
   "source": [
    "# a) "
   ]
  },
  {
   "cell_type": "code",
   "execution_count": 116,
   "metadata": {
    "collapsed": false
   },
   "outputs": [
    {
     "data": {
      "text/plain": [
       "<matplotlib.axes._subplots.AxesSubplot at 0x1356cadd0>"
      ]
     },
     "execution_count": 116,
     "metadata": {},
     "output_type": "execute_result"
    },
    {
     "data": {
      "image/png": "[encoded data removed]",
      "text/plain": [
       "<matplotlib.figure.Figure at 0x135530c50>"
      ]
     },
     "metadata": {},
     "output_type": "display_data"
    }
   ],
   "source": [
    "sns.swarmplot(x=\"GPA\", y=\"GMAT\", data=data, hue=\"Admitted\", size=10,palette='winter')"
   ]
  },
  {
   "cell_type": "code",
   "execution_count": 24,
   "metadata": {
    "collapsed": false
   },
   "outputs": [
    {
     "data": {
      "text/plain": [
       "<matplotlib.text.Text at 0x134982890>"
      ]
     },
     "execution_count": 24,
     "metadata": {},
     "output_type": "execute_result"
    },
    {
     "data": {
      "image/png": "[encoded data removed]",
      "text/plain": [
       "<matplotlib.figure.Figure at 0x134945d50>"
      ]
     },
     "metadata": {},
     "output_type": "display_data"
    }
   ],
   "source": [
    "colors = ('red','blue','lightgreen','gray','cyan')\n",
    "cmap = ListedColormap(colors[:len(np.unique(y))])\n",
    "markers = ('s', 'v', 'o', '^', 'v')\n",
    "\n",
    "for idx,cl in enumerate(np.unique(y)):\n",
    "    plt.scatter(x=X[y == cl,0],y=X[y==cl,1],alpha=0.8,c=cmap(idx),marker = markers[idx], label=cl,s=100)\n",
    "plt.legend(['Waiting List','Admiited'])\n",
    "plt.ylabel('GMAT')\n",
    "plt.xlabel('GPA')"
   ]
  },
  {
   "cell_type": "markdown",
   "metadata": {},
   "source": [
    "# b)"
   ]
  },
  {
   "cell_type": "code",
   "execution_count": 121,
   "metadata": {
    "collapsed": false
   },
   "outputs": [
    {
     "data": {
      "text/plain": [
       "Intercept   -3.759625\n",
       "GPA          0.824181\n",
       "GMAT         0.003368\n",
       "dtype: float64"
      ]
     },
     "execution_count": 121,
     "metadata": {},
     "output_type": "execute_result"
    }
   ],
   "source": [
    "import statsmodels.formula.api as smf\n",
    "lm1 = smf.ols(formula='Admitted ~ GPA + GMAT', data=data).fit()\n",
    "lm1.params"
   ]
  },
  {
   "cell_type": "code",
   "execution_count": 29,
   "metadata": {
    "collapsed": false
   },
   "outputs": [
    {
     "data": {
      "text/plain": [
       "array([-0.16483614, -0.0006735 ])"
      ]
     },
     "execution_count": 29,
     "metadata": {},
     "output_type": "execute_result"
    }
   ],
   "source": [
    "from sklearn.linear_model import LinearRegression\n",
    "mdl = LinearRegression(normalize=True)\n",
    "mdl = mdl.fit(X,y)\n",
    "mdl.coef_"
   ]
  },
  {
   "cell_type": "code",
   "execution_count": 27,
   "metadata": {
    "collapsed": true
   },
   "outputs": [],
   "source": [
    "X = data[['GPA','GMAT']].values\n",
    "y = data['Admitted'].values"
   ]
  },
  {
   "cell_type": "code",
   "execution_count": 30,
   "metadata": {
    "collapsed": false
   },
   "outputs": [],
   "source": [
    "#Plotting Decision Boundary\n",
    "from matplotlib.colors import ListedColormap\n",
    "\n",
    "def plot_decision_regions(X,y,classifier,test_idx =None, resolution=0.01):\n",
    "    #setup marker generator and colormap\n",
    "    markers = ('s', 'v', 'o', '^', 'v')\n",
    "    colors = ('red','blue','lightgreen','gray','cyan')\n",
    "    cmap = ListedColormap(colors[:len(np.unique(y))])\n",
    "    \n",
    "    #plot the decision surface \n",
    "    x1_min, x1_max = X[:,0].min() - 0.3, X[:,0].max() +0.3\n",
    "    x2_min, x2_max = X[:,1].min() - 100, X[:,1].max() + 100\n",
    "    xx1, xx2 = np.meshgrid(np.arange(x1_min,x1_max,resolution),np.arange(x2_min,x2_max,resolution))\n",
    "    Z = classifier.predict(np.array([xx1.ravel(),xx2.ravel()]).T)\n",
    "    Z = Z.reshape(xx1.shape)\n",
    "    \n",
    "    plt.contourf(xx1,xx2,Z,alpha=0.4,cmap=cmap)\n",
    "    plt.xlim(xx1.min(),xx1.max())\n",
    "    plt.ylim(xx2.min(),xx2.max())\n",
    "    \n",
    "    #plot all samples\n",
    "    for idx,cl in enumerate(np.unique(y)):\n",
    "        plt.scatter(x=X[y == cl,0],y=X[y==cl,1],alpha=0.8,c=cmap(idx),marker = markers[idx], label=cl,s=50)\n",
    "    \n",
    "    #highlight test samples\n",
    "    if test_idx:\n",
    "        x_test, y_test = X[test_idx, :], y[test_idx]\n",
    "        plt.scatter(X_test[:,0],X_test[:,1],c='',alpha=1.0,linewidths=1,marker='o',label = 'test set')"
   ]
  },
  {
   "cell_type": "code",
   "execution_count": 31,
   "metadata": {
    "collapsed": false,
    "scrolled": true
   },
   "outputs": [
    {
     "data": {
      "image/png": "[encoded data removed]",
      "text/plain": [
       "<matplotlib.figure.Figure at 0x134b11190>"
      ]
     },
     "metadata": {},
     "output_type": "display_data"
    }
   ],
   "source": [
    "plt.rcParams['figure.figsize']=(10,10)\n",
    "plot_decision_regions(X=X,y=y,classifier=mdl)\n",
    "plt.show()\n"
   ]
  },
  {
   "cell_type": "markdown",
   "metadata": {
    "collapsed": false
   },
   "source": [
    "#  Discriminant Function:\n",
    "# Z = -0.164 (GPA) - 0.00067(GMAT)"
   ]
  },
  {
   "cell_type": "code",
   "execution_count": 61,
   "metadata": {
    "collapsed": false
   },
   "outputs": [],
   "source": [
    "theta = np.array([-0.164,-0.00067]).reshape(2,1)\n",
    "x1 = np.matmul(X[:12,:],theta)\n",
    "x2 = np.matmul(X[12:,:],theta)"
   ]
  },
  {
   "cell_type": "code",
   "execution_count": 63,
   "metadata": {
    "collapsed": false
   },
   "outputs": [],
   "source": [
    "x1_avg = x1.mean()\n",
    "x2_avg  = x2.mean()"
   ]
  },
  {
   "cell_type": "code",
   "execution_count": 64,
   "metadata": {
    "collapsed": false
   },
   "outputs": [
    {
     "data": {
      "text/plain": [
       "-0.85463020833333347"
      ]
     },
     "execution_count": 64,
     "metadata": {},
     "output_type": "execute_result"
    }
   ],
   "source": [
    "c= (x1_avg + x2_avg)/2"
   ]
  },
  {
   "cell_type": "code",
   "execution_count": 100,
   "metadata": {
    "collapsed": false
   },
   "outputs": [],
   "source": [
    "new_x = np.c_[np.ones((20,1)),X]"
   ]
  },
  {
   "cell_type": "code",
   "execution_count": 113,
   "metadata": {
    "collapsed": false
   },
   "outputs": [],
   "source": [
    "new_theta = np.array([-3.75,0.824,0.0033]).reshape(3,1)"
   ]
  },
  {
   "cell_type": "code",
   "execution_count": 114,
   "metadata": {
    "collapsed": false
   },
   "outputs": [],
   "source": [
    "z = -np.matmul(new_x,new_theta)"
   ]
  },
  {
   "cell_type": "code",
   "execution_count": 124,
   "metadata": {
    "collapsed": false
   },
   "outputs": [
    {
     "data": {
      "text/plain": [
       "array([[ 0.63801061],\n",
       "       [ 0.59826953],\n",
       "       [ 0.62102003],\n",
       "       [ 0.66820107],\n",
       "       [ 0.72253278],\n",
       "       [ 0.80026317],\n",
       "       [ 0.69264624],\n",
       "       [ 0.74392312],\n",
       "       [ 0.67177409],\n",
       "       [ 0.7592478 ],\n",
       "       [ 0.69574139],\n",
       "       [ 0.70609641],\n",
       "       [ 0.55893477],\n",
       "       [ 0.55853043],\n",
       "       [ 0.55479406],\n",
       "       [ 0.5441398 ],\n",
       "       [ 0.52658989],\n",
       "       [ 0.46966231],\n",
       "       [ 0.6131565 ],\n",
       "       [ 0.55770671]])"
      ]
     },
     "execution_count": 124,
     "metadata": {},
     "output_type": "execute_result"
    }
   ],
   "source": [
    "1/(1+np.exp(z))"
   ]
  },
  {
   "cell_type": "code",
   "execution_count": 135,
   "metadata": {
    "collapsed": false
   },
   "outputs": [],
   "source": [
    "# find invSW via S1 and S2\n",
    "# S1 = sum(xi - mu_1)(xi- mu_1)t\n",
    "x1 = X[:12,:]\n",
    "x2 = X[12:,:]\n",
    "mu_1 = np.mean(x1,axis=0)\n",
    "mu_2 = np.mean(x2,axis=0)"
   ]
  },
  {
   "cell_type": "code",
   "execution_count": 153,
   "metadata": {
    "collapsed": false
   },
   "outputs": [
    {
     "data": {
      "text/plain": [
       "array([[ -3.65000000e-01,   1.15833333e+01],\n",
       "       [ -1.85000000e-01,  -8.44166667e+01],\n",
       "       [ -1.05000000e-01,  -7.54166667e+01],\n",
       "       [ -3.50000000e-02,  -3.04166667e+01],\n",
       "       [  3.65000000e-01,  -5.24166667e+01],\n",
       "       [  1.35000000e-01,   1.35583333e+02],\n",
       "       [ -2.95000000e-01,   6.85833333e+01],\n",
       "       [ -1.35000000e-01,   1.05583333e+02],\n",
       "       [  3.05000000e-01,  -1.10416667e+02],\n",
       "       [  2.65000000e-01,   3.05833333e+01],\n",
       "       [ -2.50000000e-02,   5.58333333e+00],\n",
       "       [  7.50000000e-02,  -4.41666667e+00]])"
      ]
     },
     "execution_count": 153,
     "metadata": {},
     "output_type": "execute_result"
    }
   ],
   "source": [
    "x1_dif =  np.array([[x1[i,0] - mu_1[0],x1[i,1] - mu_1[1]] for i in range(12)])\n",
    "x2_dif =  np.array([[x2[i,0] - mu_2[0],x2[i,1] - mu_2[1]] for i in range(8)])\n",
    "x1_dif"
   ]
  },
  {
   "cell_type": "code",
   "execution_count": 159,
   "metadata": {
    "collapsed": false
   },
   "outputs": [],
   "source": [
    "S1 = np.matmul(x1_dif.T,x1_dif)\n",
    "S2 = np.matmul(x2_dif.T,x2_dif)"
   ]
  },
  {
   "cell_type": "code",
   "execution_count": 163,
   "metadata": {
    "collapsed": false
   },
   "outputs": [],
   "source": [
    "SW = S1+S2"
   ]
  },
  {
   "cell_type": "code",
   "execution_count": 169,
   "metadata": {
    "collapsed": false
   },
   "outputs": [],
   "source": [
    "SW_inv = np.linalg.inv(SW)"
   ]
  },
  {
   "cell_type": "code",
   "execution_count": 170,
   "metadata": {
    "collapsed": true
   },
   "outputs": [],
   "source": [
    "mu_deff = mu_1 - mu_2"
   ]
  },
  {
   "cell_type": "code",
   "execution_count": 171,
   "metadata": {
    "collapsed": false
   },
   "outputs": [
    {
     "data": {
      "text/plain": [
       "array([ 0.4832878 ,  0.00197466])"
      ]
     },
     "execution_count": 171,
     "metadata": {},
     "output_type": "execute_result"
    }
   ],
   "source": [
    "e = np.matmul(SW_inv,mu_deff)\n",
    "e"
   ]
  },
  {
   "cell_type": "code",
   "execution_count": 172,
   "metadata": {
    "collapsed": false
   },
   "outputs": [
    {
     "data": {
      "text/plain": [
       "array([ 2.55411601,  2.45154002,  2.50797502,  2.63066507,  2.78053757,\n",
       "        3.04061831,  2.70050204,  2.85089067,  2.63700976,  2.89610595,\n",
       "        2.70658588,  2.73516801,  2.35768739,  2.35680384,  2.34490813,\n",
       "        2.31778453,  2.27937679,  2.14042657,  2.48532244,  2.35441404])"
      ]
     },
     "execution_count": 172,
     "metadata": {},
     "output_type": "execute_result"
    }
   ],
   "source": [
    "z_new =  np.matmul(X,e)\n",
    "z_new"
   ]
  },
  {
   "cell_type": "code",
   "execution_count": 175,
   "metadata": {
    "collapsed": false
   },
   "outputs": [
    {
     "data": {
      "text/plain": [
       "(array([ 1.,  0.,  0.,  0.,  1.,  2.,  3.,  0.,  0.,  1.]),\n",
       " array([ 2.14042657,  2.17491616,  2.20940574,  2.24389533,  2.27838492,\n",
       "         2.31287451,  2.34736409,  2.38185368,  2.41634327,  2.45083286,\n",
       "         2.48532244]),\n",
       " <a list of 10 Patch objects>)"
      ]
     },
     "execution_count": 175,
     "metadata": {},
     "output_type": "execute_result"
    },
    {
     "data": {
      "image/png": "[encoded data removed]",
      "text/plain": [
       "<matplotlib.figure.Figure at 0x1387a02d0>"
      ]
     },
     "metadata": {},
     "output_type": "display_data"
    }
   ],
   "source": [
    "plt.hist(z_new[:12])\n",
    "plt.hist(z_new[12:])"
   ]
  },
  {
   "cell_type": "code",
   "execution_count": 180,
   "metadata": {
    "collapsed": false
   },
   "outputs": [],
   "source": [
    "mean_z1 = np.mean(z_new[:12])\n",
    "mean_z2 = np.mean(z_new[12:])\n"
   ]
  },
  {
   "cell_type": "code",
   "execution_count": 183,
   "metadata": {
    "collapsed": false
   },
   "outputs": [
    {
     "data": {
      "text/plain": [
       "2.518616663739925"
      ]
     },
     "execution_count": 183,
     "metadata": {},
     "output_type": "execute_result"
    }
   ],
   "source": [
    "c_new = (mean_z1+mean_z2)/2\n",
    "c_new"
   ]
  },
  {
   "cell_type": "code",
   "execution_count": 215,
   "metadata": {
    "collapsed": false
   },
   "outputs": [
    {
     "data": {
      "text/plain": [
       "0.52033461187327912"
      ]
     },
     "execution_count": 215,
     "metadata": {},
     "output_type": "execute_result"
    }
   ],
   "source": [
    "1 / (1+np.exp(-2.6+c_new))"
   ]
  },
  {
   "cell_type": "code",
   "execution_count": 207,
   "metadata": {
    "collapsed": false
   },
   "outputs": [
    {
     "data": {
      "text/plain": [
       "(array([ 1.,  0.,  0.,  3.,  2.,  0.,  1.,  0.,  0.,  1.]),\n",
       " array([-0.4606 , -0.40239, -0.34418, -0.28597, -0.22776, -0.16955,\n",
       "        -0.11134, -0.05313,  0.00508,  0.06329,  0.1215 ]),\n",
       " <a list of 10 Patch objects>)"
      ]
     },
     "execution_count": 207,
     "metadata": {},
     "output_type": "execute_result"
    },
    {
     "data": {
      "image/png": "[encoded data removed]",
      "text/plain": [
       "<matplotlib.figure.Figure at 0x137045990>"
      ]
     },
     "metadata": {},
     "output_type": "display_data"
    }
   ],
   "source": [
    "c"
   ]
  },
  {
   "cell_type": "code",
   "execution_count": 210,
   "metadata": {
    "collapsed": false
   },
   "outputs": [
    {
     "data": {
      "text/plain": [
       "-0.5112962499999999"
      ]
     },
     "execution_count": 210,
     "metadata": {},
     "output_type": "execute_result"
    }
   ],
   "source": [
    "c = (np.mean(z[:12]) + np.mean(z[12:]))/2\n",
    "c"
   ]
  },
  {
   "cell_type": "code",
   "execution_count": 217,
   "metadata": {
    "collapsed": false
   },
   "outputs": [
    {
     "data": {
      "text/plain": [
       "0.40885427836074517"
      ]
     },
     "execution_count": 217,
     "metadata": {},
     "output_type": "execute_result"
    }
   ],
   "source": [
    "1 / (1+np.exp(0.88+c))"
   ]
  },
  {
   "cell_type": "code",
   "execution_count": 214,
   "metadata": {
    "collapsed": false
   },
   "outputs": [
    {
     "data": {
      "text/plain": [
       "array([[   2.96,  569.  ],\n",
       "       [   3.14,  473.  ],\n",
       "       [   3.22,  482.  ],\n",
       "       [   3.29,  527.  ],\n",
       "       [   3.69,  505.  ],\n",
       "       [   3.46,  693.  ],\n",
       "       [   3.03,  626.  ],\n",
       "       [   3.19,  663.  ],\n",
       "       [   3.63,  447.  ],\n",
       "       [   3.59,  588.  ],\n",
       "       [   3.3 ,  563.  ],\n",
       "       [   3.4 ,  553.  ],\n",
       "       [   2.86,  494.  ],\n",
       "       [   2.85,  496.  ],\n",
       "       [   3.14,  419.  ],\n",
       "       [   3.28,  371.  ],\n",
       "       [   2.89,  447.  ],\n",
       "       [   3.15,  313.  ],\n",
       "       [   3.5 ,  402.  ],\n",
       "       [   2.89,  485.  ]])"
      ]
     },
     "execution_count": 214,
     "metadata": {},
     "output_type": "execute_result"
    }
   ],
   "source": [
    "X"
   ]
  },
  {
   "cell_type": "code",
   "execution_count": null,
   "metadata": {
    "collapsed": true
   },
   "outputs": [],
   "source": []
  }
 ],
 "metadata": {
  "anaconda-cloud": {},
  "kernelspec": {
   "display_name": "Python [Root]",
   "language": "python",
   "name": "Python [Root]"
  },
  "language_info": {
   "codemirror_mode": {
    "name": "ipython",
    "version": 2
   },
   "file_extension": ".py",
   "mimetype": "text/x-python",
   "name": "python",
   "nbconvert_exporter": "python",
   "pygments_lexer": "ipython2",
   "version": "2.7.11"
  }
 },
 "nbformat": 4,
 "nbformat_minor": 0
}
