{
 "cells": [
  {
   "cell_type": "code",
   "execution_count": 11,
   "metadata": {
    "collapsed": true
   },
   "outputs": [],
   "source": [
    "import numpy as np\n",
    "import pandas as pd\n",
    "from pandas import DataFrame, Series\n",
    "import matplotlib.pyplot as plt\n",
    "%matplotlib inline\n",
    "import scipy\n",
    "from scipy import stats\n",
    "import seaborn as sns\n",
    "from __future__ import division"
   ]
  },
  {
   "cell_type": "code",
   "execution_count": 2,
   "metadata": {
    "collapsed": false
   },
   "outputs": [
    {
     "data": {
      "text/html": [
       "<div>\n",
       "<table border=\"1\" class=\"dataframe\">\n",
       "  <thead>\n",
       "    <tr style=\"text-align: right;\">\n",
       "      <th></th>\n",
       "      <th>Y</th>\n",
       "      <th>C</th>\n",
       "      <th>P</th>\n",
       "      <th>F</th>\n",
       "    </tr>\n",
       "  </thead>\n",
       "  <tbody>\n",
       "    <tr>\n",
       "      <th>0</th>\n",
       "      <td>85.1</td>\n",
       "      <td>8.5</td>\n",
       "      <td>5.1</td>\n",
       "      <td>4.7</td>\n",
       "    </tr>\n",
       "    <tr>\n",
       "      <th>1</th>\n",
       "      <td>106.3</td>\n",
       "      <td>12.9</td>\n",
       "      <td>5.8</td>\n",
       "      <td>8.8</td>\n",
       "    </tr>\n",
       "    <tr>\n",
       "      <th>2</th>\n",
       "      <td>50.2</td>\n",
       "      <td>5.2</td>\n",
       "      <td>2.1</td>\n",
       "      <td>15.1</td>\n",
       "    </tr>\n",
       "    <tr>\n",
       "      <th>3</th>\n",
       "      <td>130.6</td>\n",
       "      <td>10.7</td>\n",
       "      <td>8.4</td>\n",
       "      <td>12.2</td>\n",
       "    </tr>\n",
       "    <tr>\n",
       "      <th>4</th>\n",
       "      <td>54.8</td>\n",
       "      <td>3.1</td>\n",
       "      <td>2.9</td>\n",
       "      <td>10.6</td>\n",
       "    </tr>\n",
       "    <tr>\n",
       "      <th>5</th>\n",
       "      <td>30.3</td>\n",
       "      <td>3.5</td>\n",
       "      <td>1.2</td>\n",
       "      <td>3.5</td>\n",
       "    </tr>\n",
       "    <tr>\n",
       "      <th>6</th>\n",
       "      <td>79.4</td>\n",
       "      <td>9.2</td>\n",
       "      <td>3.7</td>\n",
       "      <td>9.7</td>\n",
       "    </tr>\n",
       "    <tr>\n",
       "      <th>7</th>\n",
       "      <td>91.0</td>\n",
       "      <td>9.0</td>\n",
       "      <td>7.6</td>\n",
       "      <td>5.9</td>\n",
       "    </tr>\n",
       "    <tr>\n",
       "      <th>8</th>\n",
       "      <td>135.4</td>\n",
       "      <td>15.1</td>\n",
       "      <td>7.7</td>\n",
       "      <td>20.8</td>\n",
       "    </tr>\n",
       "    <tr>\n",
       "      <th>9</th>\n",
       "      <td>89.3</td>\n",
       "      <td>10.2</td>\n",
       "      <td>4.5</td>\n",
       "      <td>7.9</td>\n",
       "    </tr>\n",
       "  </tbody>\n",
       "</table>\n",
       "</div>"
      ],
      "text/plain": [
       "       Y     C    P     F\n",
       "0   85.1   8.5  5.1   4.7\n",
       "1  106.3  12.9  5.8   8.8\n",
       "2   50.2   5.2  2.1  15.1\n",
       "3  130.6  10.7  8.4  12.2\n",
       "4   54.8   3.1  2.9  10.6\n",
       "5   30.3   3.5  1.2   3.5\n",
       "6   79.4   9.2  3.7   9.7\n",
       "7   91.0   9.0  7.6   5.9\n",
       "8  135.4  15.1  7.7  20.8\n",
       "9   89.3  10.2  4.5   7.9"
      ]
     },
     "execution_count": 2,
     "metadata": {},
     "output_type": "execute_result"
    }
   ],
   "source": [
    "data_df = pd.read_csv('data.csv')\n",
    "data_df"
   ]
  },
  {
   "cell_type": "markdown",
   "metadata": {},
   "source": [
    "# a) Determine the Total Sales as a function of Production Cost, Promotion Cost, and First Year Box Office Sales  \n"
   ]
  },
  {
   "cell_type": "code",
   "execution_count": 3,
   "metadata": {
    "collapsed": false
   },
   "outputs": [],
   "source": [
    "import statsmodels.formula.api as smf\n",
    "lm = smf.ols(formula='Y ~ C + P + F', data=data_df).fit()\n"
   ]
  },
  {
   "cell_type": "code",
   "execution_count": 4,
   "metadata": {
    "collapsed": false
   },
   "outputs": [
    {
     "data": {
      "text/plain": [
       "Intercept    7.676028\n",
       "C            3.661604\n",
       "P            7.621050\n",
       "F            0.828468\n",
       "dtype: float64"
      ]
     },
     "execution_count": 4,
     "metadata": {},
     "output_type": "execute_result"
    }
   ],
   "source": [
    "lm.params"
   ]
  },
  {
   "cell_type": "markdown",
   "metadata": {},
   "source": [
    "# Total Sales = 7.67 + 3.66(Production Cost) + 7.62(Promotion Cost) + 0.82(First Year Box Office) "
   ]
  },
  {
   "cell_type": "markdown",
   "metadata": {},
   "source": [
    "# b) Determine R2 \n"
   ]
  },
  {
   "cell_type": "code",
   "execution_count": 6,
   "metadata": {
    "collapsed": false
   },
   "outputs": [
    {
     "data": {
      "text/plain": [
       "0.96678881966964347"
      ]
     },
     "execution_count": 6,
     "metadata": {},
     "output_type": "execute_result"
    }
   ],
   "source": [
    "lm.rsquared"
   ]
  },
  {
   "cell_type": "markdown",
   "metadata": {},
   "source": [
    "# c) a)\tTest the hypothesis at α = 5% level that Total Sales is not related any of Production Cost, Promotion Cost, and First Box Office Sales.\n"
   ]
  },
  {
   "cell_type": "markdown",
   "metadata": {},
   "source": [
    "# Hypothesis:\n",
    "# H0 -> b1 = b2 = b3 = 0 (Total Sales is not related any of Production Cost, Promotion Cost, and First Box Office Sales)\n",
    "# Ha -> at least one of the regression coefficients should be non-zero.\n",
    "\n",
    "# alpha = 5%"
   ]
  },
  {
   "cell_type": "code",
   "execution_count": 24,
   "metadata": {
    "collapsed": false
   },
   "outputs": [
    {
     "name": "stdout",
     "output_type": "stream",
     "text": [
      "f-statistic: 58.2206841222\n",
      "p-value: 0.0001\n"
     ]
    }
   ],
   "source": [
    "N = lm.nobs\n",
    "P = lm.df_model\n",
    "F = lm.mse_model / lm.mse_resid\n",
    "dfn, dfd = P, N - P - 1\n",
    "print \"f-statistic:\",F\n",
    "p = 1.0 - scipy.stats.f.cdf(F,dfn,dfd)\n",
    "print \"p-value: %0.4f\" %p"
   ]
  },
  {
   "cell_type": "markdown",
   "metadata": {},
   "source": [
    "# Here in our model f -statistic = 58.22 and p - value is 0.0001\n",
    "# p - value < 0.05\n",
    "# We can reject the null\n"
   ]
  },
  {
   "cell_type": "markdown",
   "metadata": {},
   "source": [
    "#   \n",
    "\n",
    "\n",
    "\n",
    "\n",
    "# d) Find the correlation of  Total Sales and Production Cost given Promotion Cost (partial correlation)\n"
   ]
  },
  {
   "cell_type": "code",
   "execution_count": 46,
   "metadata": {
    "collapsed": false
   },
   "outputs": [
    {
     "data": {
      "text/plain": [
       "array([[ 1.        ,  0.91744481,  0.92996775,  0.47469115],\n",
       "       [ 0.91744481,  1.        ,  0.7899575 ,  0.4291329 ],\n",
       "       [ 0.92996775,  0.7899575 ,  1.        ,  0.29876126],\n",
       "       [ 0.47469115,  0.4291329 ,  0.29876126,  1.        ]])"
      ]
     },
     "execution_count": 46,
     "metadata": {},
     "output_type": "execute_result"
    }
   ],
   "source": [
    "np.corrcoef([data_df.Y,data_df.C,data_df.P,data_df.F])"
   ]
  },
  {
   "cell_type": "code",
   "execution_count": 51,
   "metadata": {
    "collapsed": false
   },
   "outputs": [],
   "source": [
    "r_YC = 0.9174\n",
    "r_YP = 0.93\n",
    "r_CP = 0.79\n",
    "r_YF = 0.4746\n",
    "r_FP = 0.2987\n",
    "r_CF = 0.4291"
   ]
  },
  {
   "cell_type": "code",
   "execution_count": 41,
   "metadata": {
    "collapsed": false
   },
   "outputs": [],
   "source": [
    "r_YC_P = (r_YC - r_YP*r_CP) / np.sqrt((1 - (r_YP)**2)*(1 - (r_CP)**2))"
   ]
  },
  {
   "cell_type": "code",
   "execution_count": 42,
   "metadata": {
    "collapsed": false
   },
   "outputs": [
    {
     "data": {
      "text/plain": [
       "0.81072713669446683"
      ]
     },
     "execution_count": 42,
     "metadata": {},
     "output_type": "execute_result"
    }
   ],
   "source": [
    "r_YC_P"
   ]
  },
  {
   "cell_type": "markdown",
   "metadata": {},
   "source": [
    "# e)\tFind the correlation of  Total Sales and Production Cost given Promotion Cost and First Year Box Office Sales (partial correlation)\n"
   ]
  },
  {
   "cell_type": "markdown",
   "metadata": {},
   "source": [
    "r_YC_PF = (r_YC_P - r_YF_P*r_CF_P) / np.sqrt((1 - (r_YF_P)**2)*(1 - (r_CF_P)**2))"
   ]
  },
  {
   "cell_type": "code",
   "execution_count": 48,
   "metadata": {
    "collapsed": false
   },
   "outputs": [],
   "source": [
    "r_YF_P = (r_YF - r_YP*r_FP) / np.sqrt((1 - (r_FP)**2)*(1 - (r_FP)**2))"
   ]
  },
  {
   "cell_type": "code",
   "execution_count": 52,
   "metadata": {
    "collapsed": false
   },
   "outputs": [],
   "source": [
    "r_CF_P = (r_CF - r_CP*r_FP) / np.sqrt((1 - (r_FP)**2)*(1 - (r_FP)**2))"
   ]
  },
  {
   "cell_type": "code",
   "execution_count": 55,
   "metadata": {
    "collapsed": false
   },
   "outputs": [],
   "source": [
    "r_YC_PF = (r_YC_P - r_YF_P*r_CF_P) / np.sqrt((1 - (r_YF_P)**2)*(1 - (r_CF_P)**2))"
   ]
  },
  {
   "cell_type": "code",
   "execution_count": 70,
   "metadata": {
    "collapsed": false
   },
   "outputs": [
    {
     "name": "stdout",
     "output_type": "stream",
     "text": [
      "ANS: 0.801645229451\n"
     ]
    }
   ],
   "source": [
    "print \"ANS:\",r_YC_PF"
   ]
  },
  {
   "cell_type": "markdown",
   "metadata": {},
   "source": [
    "# f) Find the correlation of  Total Sales and First Year sales given Production Cost and Promotion Cost (partial correlation)\n"
   ]
  },
  {
   "cell_type": "markdown",
   "metadata": {},
   "source": [
    "r_YF_PC = (r_YF_P - r_YC_F*r_FC_P) / np.sqrt((1 - (r_YC_P)**2)*(1 - (r_FC_P)**2))"
   ]
  },
  {
   "cell_type": "code",
   "execution_count": 57,
   "metadata": {
    "collapsed": true
   },
   "outputs": [],
   "source": [
    "r_YC_F = (r_YC - r_YF*r_CF) / np.sqrt((1 - (r_YF)**2)*(1 - (r_CF)**2))"
   ]
  },
  {
   "cell_type": "code",
   "execution_count": 62,
   "metadata": {
    "collapsed": false
   },
   "outputs": [],
   "source": [
    "r_YF_PC = (r_YF_P - r_YC_F*r_CF_P) / np.sqrt((1 - (r_YC_P)**2)*(1 - (r_CF_P)**2))"
   ]
  },
  {
   "cell_type": "code",
   "execution_count": 71,
   "metadata": {
    "collapsed": false
   },
   "outputs": [
    {
     "name": "stdout",
     "output_type": "stream",
     "text": [
      "ANS: 0.0449665096783\n"
     ]
    }
   ],
   "source": [
    "print \"ANS:\",r_YF_PC"
   ]
  },
  {
   "cell_type": "markdown",
   "metadata": {},
   "source": [
    "# g)What is the forecast for the total sales and a 95% confidence interval for it of a movie that costs 12,75 mm US to produce and 6 mm is spent on its promotion its first year box office sales is 8 mm?. \n"
   ]
  },
  {
   "cell_type": "markdown",
   "metadata": {},
   "source": [
    " # y* ±Var(y*)1/2 t(1-α/2)\n",
    " \n",
    " # we have df = 10 - 3 - 1 = 6\n",
    " \n",
    " # so t(1 - 0.05/2) = 2.447"
   ]
  },
  {
   "cell_type": "code",
   "execution_count": 105,
   "metadata": {
    "collapsed": false
   },
   "outputs": [],
   "source": [
    "y_movie = 7.67 + 3.66*12.75 + 7.62*6 + 0.82*8"
   ]
  },
  {
   "cell_type": "code",
   "execution_count": 95,
   "metadata": {
    "collapsed": false
   },
   "outputs": [],
   "source": [
    "y_predicted = lm.predict(data_df[['C','P','F']])\n",
    "y_std = np.std(y_predicted)\n",
    "t = 2.447"
   ]
  },
  {
   "cell_type": "code",
   "execution_count": 106,
   "metadata": {
    "collapsed": false
   },
   "outputs": [],
   "source": [
    "SSE = 0\n",
    "for y,yp in zip(data_df.Y,y_predicted):\n",
    "    SSE = SSE + (y-yp)**2\n",
    "SSE = np.sqrt(SSE / 10)"
   ]
  },
  {
   "cell_type": "markdown",
   "metadata": {},
   "source": [
    "# forecast of total sales:"
   ]
  },
  {
   "cell_type": "code",
   "execution_count": 108,
   "metadata": {
    "collapsed": false
   },
   "outputs": [
    {
     "name": "stdout",
     "output_type": "stream",
     "text": [
      "[  81.56082106  106.40333497   55.23044547  120.97932724   49.90980948\n",
      "   32.53654208   77.59681496  103.4384102   138.88047787   85.86401668]\n"
     ]
    }
   ],
   "source": [
    "print y_predicted"
   ]
  },
  {
   "cell_type": "code",
   "execution_count": 102,
   "metadata": {
    "collapsed": false
   },
   "outputs": [
    {
     "name": "stdout",
     "output_type": "stream",
     "text": [
      "95% confidence interval: (92.321492833615409, 120.90850716638461)\n"
     ]
    }
   ],
   "source": [
    "print \"ANS: 95% confidence interval:\", (y_movie - SSE*2.447, y_movie + SSE*2.447)"
   ]
  }
 ],
 "metadata": {
  "anaconda-cloud": {},
  "kernelspec": {
   "display_name": "Python [Root]",
   "language": "python",
   "name": "Python [Root]"
  },
  "language_info": {
   "codemirror_mode": {
    "name": "ipython",
    "version": 2
   },
   "file_extension": ".py",
   "mimetype": "text/x-python",
   "name": "python",
   "nbconvert_exporter": "python",
   "pygments_lexer": "ipython2",
   "version": "2.7.11"
  }
 },
 "nbformat": 4,
 "nbformat_minor": 0
}
